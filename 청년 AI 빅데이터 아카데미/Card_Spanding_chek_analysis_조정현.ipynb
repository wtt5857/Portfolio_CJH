{
 "cells": [
  {
   "cell_type": "code",
   "execution_count": 1,
   "metadata": {},
   "outputs": [],
   "source": [
    "import pandas as pd\n",
    "import numpy as np\n",
    "import matplotlib\n",
    "import matplotlib.pyplot as plt\n",
    "import seaborn as sns\n",
    "from pandas import DataFrame\n",
    "matplotlib.rc(\"font\", family = \"Malgun Gothic\")"
   ]
  },
  {
   "cell_type": "code",
   "execution_count": 2,
   "metadata": {},
   "outputs": [],
   "source": [
    "pd.options.display.max_rows=8000\n",
    "pd.options.display.max_columns=999"
   ]
  },
  {
   "cell_type": "code",
   "execution_count": 3,
   "metadata": {
    "scrolled": true
   },
   "outputs": [
    {
     "data": {
      "text/html": [
       "<div>\n",
       "<style scoped>\n",
       "    .dataframe tbody tr th:only-of-type {\n",
       "        vertical-align: middle;\n",
       "    }\n",
       "\n",
       "    .dataframe tbody tr th {\n",
       "        vertical-align: top;\n",
       "    }\n",
       "\n",
       "    .dataframe thead th {\n",
       "        text-align: right;\n",
       "    }\n",
       "</style>\n",
       "<table border=\"1\" class=\"dataframe\">\n",
       "  <thead>\n",
       "    <tr style=\"text-align: right;\">\n",
       "      <th></th>\n",
       "      <th>사용일자</th>\n",
       "      <th>구</th>\n",
       "      <th>소비처</th>\n",
       "      <th>주소</th>\n",
       "      <th>소비처업종</th>\n",
       "      <th>성별</th>\n",
       "      <th>연령</th>\n",
       "      <th>age_group</th>\n",
       "      <th>사용횟수</th>\n",
       "      <th>사용금액</th>\n",
       "      <th>1회평균사용금액</th>\n",
       "      <th>사용카드</th>\n",
       "      <th>card_category</th>\n",
       "      <th>신용카드</th>\n",
       "    </tr>\n",
       "  </thead>\n",
       "  <tbody>\n",
       "    <tr>\n",
       "      <td>0</td>\n",
       "      <td>20180401</td>\n",
       "      <td>노원구</td>\n",
       "      <td>상계2동</td>\n",
       "      <td>종로구 상계2동</td>\n",
       "      <td>자동차정비</td>\n",
       "      <td>여성</td>\n",
       "      <td>42</td>\n",
       "      <td>4</td>\n",
       "      <td>3</td>\n",
       "      <td>56</td>\n",
       "      <td>18.66666667</td>\n",
       "      <td>82</td>\n",
       "      <td>public</td>\n",
       "      <td>0</td>\n",
       "    </tr>\n",
       "    <tr>\n",
       "      <td>1</td>\n",
       "      <td>20180401</td>\n",
       "      <td>종로구</td>\n",
       "      <td>혜화동</td>\n",
       "      <td>종로구 혜화동</td>\n",
       "      <td>유통업</td>\n",
       "      <td>여성</td>\n",
       "      <td>43</td>\n",
       "      <td>4</td>\n",
       "      <td>2</td>\n",
       "      <td>50</td>\n",
       "      <td>25</td>\n",
       "      <td>61</td>\n",
       "      <td>travel</td>\n",
       "      <td>0</td>\n",
       "    </tr>\n",
       "    <tr>\n",
       "      <td>2</td>\n",
       "      <td>20180401</td>\n",
       "      <td>노원구</td>\n",
       "      <td>상계6,7동</td>\n",
       "      <td>노원구 상계6,7동</td>\n",
       "      <td>레저업소</td>\n",
       "      <td>남성</td>\n",
       "      <td>50</td>\n",
       "      <td>5</td>\n",
       "      <td>2</td>\n",
       "      <td>59</td>\n",
       "      <td>29.5</td>\n",
       "      <td>140</td>\n",
       "      <td>shopping</td>\n",
       "      <td>1</td>\n",
       "    </tr>\n",
       "    <tr>\n",
       "      <td>3</td>\n",
       "      <td>20180401</td>\n",
       "      <td>종로구</td>\n",
       "      <td>종로5,6가동</td>\n",
       "      <td>종로구 종로5,6가동</td>\n",
       "      <td>레저업소</td>\n",
       "      <td>남성</td>\n",
       "      <td>45</td>\n",
       "      <td>4</td>\n",
       "      <td>3</td>\n",
       "      <td>56</td>\n",
       "      <td>18.66666667</td>\n",
       "      <td>104</td>\n",
       "      <td>life</td>\n",
       "      <td>1</td>\n",
       "    </tr>\n",
       "    <tr>\n",
       "      <td>4</td>\n",
       "      <td>20180401</td>\n",
       "      <td>노원구</td>\n",
       "      <td>중계4동</td>\n",
       "      <td>종로구 중계4동</td>\n",
       "      <td>음료식품</td>\n",
       "      <td>여성</td>\n",
       "      <td>38</td>\n",
       "      <td>3</td>\n",
       "      <td>2</td>\n",
       "      <td>57</td>\n",
       "      <td>28.5</td>\n",
       "      <td>103</td>\n",
       "      <td>life</td>\n",
       "      <td>1</td>\n",
       "    </tr>\n",
       "  </tbody>\n",
       "</table>\n",
       "</div>"
      ],
      "text/plain": [
       "       사용일자    구      소비처           주소  소비처업종  성별  연령  age_group  사용횟수  사용금액  \\\n",
       "0  20180401  노원구     상계2동     종로구 상계2동  자동차정비  여성  42          4     3    56   \n",
       "1  20180401  종로구      혜화동      종로구 혜화동    유통업  여성  43          4     2    50   \n",
       "2  20180401  노원구   상계6,7동   노원구 상계6,7동   레저업소  남성  50          5     2    59   \n",
       "3  20180401  종로구  종로5,6가동  종로구 종로5,6가동   레저업소  남성  45          4     3    56   \n",
       "4  20180401  노원구     중계4동     종로구 중계4동   음료식품  여성  38          3     2    57   \n",
       "\n",
       "      1회평균사용금액  사용카드 card_category  신용카드  \n",
       "0  18.66666667    82        public     0  \n",
       "1           25    61        travel     0  \n",
       "2         29.5   140      shopping     1  \n",
       "3  18.66666667   104          life     1  \n",
       "4         28.5   103          life     1  "
      ]
     },
     "execution_count": 3,
     "metadata": {},
     "output_type": "execute_result"
    }
   ],
   "source": [
    "df_raw = pd.read_csv(r\"C:\\Users\\JHCho\\Desktop\\카드 데이터\\Card_Spanding_cl3.csv\", engine=\"python\", encoding='utf-8-sig')\n",
    "df_raw.head()"
   ]
  },
  {
   "cell_type": "markdown",
   "metadata": {},
   "source": [
    "# 연령별 신용카드/ 체크카드 사용금액"
   ]
  },
  {
   "cell_type": "code",
   "execution_count": 47,
   "metadata": {
    "scrolled": true
   },
   "outputs": [
    {
     "data": {
      "text/html": [
       "<div>\n",
       "<style scoped>\n",
       "    .dataframe tbody tr th:only-of-type {\n",
       "        vertical-align: middle;\n",
       "    }\n",
       "\n",
       "    .dataframe tbody tr th {\n",
       "        vertical-align: top;\n",
       "    }\n",
       "\n",
       "    .dataframe thead th {\n",
       "        text-align: right;\n",
       "    }\n",
       "</style>\n",
       "<table border=\"1\" class=\"dataframe\">\n",
       "  <thead>\n",
       "    <tr style=\"text-align: right;\">\n",
       "      <th></th>\n",
       "      <th>사용금액</th>\n",
       "    </tr>\n",
       "    <tr>\n",
       "      <th>age_group</th>\n",
       "      <th></th>\n",
       "    </tr>\n",
       "  </thead>\n",
       "  <tbody>\n",
       "    <tr>\n",
       "      <td>4</td>\n",
       "      <td>74416532</td>\n",
       "    </tr>\n",
       "    <tr>\n",
       "      <td>3</td>\n",
       "      <td>60552959</td>\n",
       "    </tr>\n",
       "    <tr>\n",
       "      <td>5</td>\n",
       "      <td>57755888</td>\n",
       "    </tr>\n",
       "    <tr>\n",
       "      <td>6</td>\n",
       "      <td>34709966</td>\n",
       "    </tr>\n",
       "    <tr>\n",
       "      <td>2</td>\n",
       "      <td>24394045</td>\n",
       "    </tr>\n",
       "    <tr>\n",
       "      <td>7</td>\n",
       "      <td>784619</td>\n",
       "    </tr>\n",
       "    <tr>\n",
       "      <td>8</td>\n",
       "      <td>460320</td>\n",
       "    </tr>\n",
       "    <tr>\n",
       "      <td>9</td>\n",
       "      <td>149161</td>\n",
       "    </tr>\n",
       "  </tbody>\n",
       "</table>\n",
       "</div>"
      ],
      "text/plain": [
       "               사용금액\n",
       "age_group          \n",
       "4          74416532\n",
       "3          60552959\n",
       "5          57755888\n",
       "6          34709966\n",
       "2          24394045\n",
       "7            784619\n",
       "8            460320\n",
       "9            149161"
      ]
     },
     "execution_count": 47,
     "metadata": {},
     "output_type": "execute_result"
    }
   ],
   "source": [
    "#연령별 신용카드 사용금액\n",
    "df_credit = df_raw[df_raw[\"신용카드\"] ==1]\n",
    "df_credit_age = df_credit.groupby([\"age_group\"])[\"사용금액\"].sum().reset_index().sort_values(by='사용금액',ascending=False).head(10)\n",
    "df_credit_age1 = df_credit_age.set_index(\"age_group\")\n",
    "df_credit_age1"
   ]
  },
  {
   "cell_type": "code",
   "execution_count": 50,
   "metadata": {
    "scrolled": true
   },
   "outputs": [
    {
     "data": {
      "text/plain": [
       "Text(0, 0.5, '사용금액')"
      ]
     },
     "execution_count": 50,
     "metadata": {},
     "output_type": "execute_result"
    },
    {
     "data": {
      "image/png": "[encoded data removed]",
      "text/plain": [
       "<Figure size 864x288 with 1 Axes>"
      ]
     },
     "metadata": {
      "needs_background": "light"
     },
     "output_type": "display_data"
    }
   ],
   "source": [
    "ax = df_credit_age1.plot(kind='bar', title='연령별 신용카드 사용금액', figsize=(12, 4), legend=True, fontsize=12)\n",
    "# ax.set_xlabel('도시', fontsize=12)          # x축 정보 표시\n",
    "ax.set_ylabel('사용금액', fontsize=10)     # y축 정보 표시\n",
    "# ax.legend(['기온', '습도'], fontsize=12)    # 범례 지정"
   ]
  },
  {
   "cell_type": "markdown",
   "metadata": {},
   "source": [
    "### 체크카드 df_check"
   ]
  },
  {
   "cell_type": "code",
   "execution_count": 4,
   "metadata": {
    "scrolled": false
   },
   "outputs": [
    {
     "data": {
      "text/html": [
       "<div>\n",
       "<style scoped>\n",
       "    .dataframe tbody tr th:only-of-type {\n",
       "        vertical-align: middle;\n",
       "    }\n",
       "\n",
       "    .dataframe tbody tr th {\n",
       "        vertical-align: top;\n",
       "    }\n",
       "\n",
       "    .dataframe thead th {\n",
       "        text-align: right;\n",
       "    }\n",
       "</style>\n",
       "<table border=\"1\" class=\"dataframe\">\n",
       "  <thead>\n",
       "    <tr style=\"text-align: right;\">\n",
       "      <th></th>\n",
       "      <th>사용일자</th>\n",
       "      <th>구</th>\n",
       "      <th>소비처</th>\n",
       "      <th>주소</th>\n",
       "      <th>소비처업종</th>\n",
       "      <th>성별</th>\n",
       "      <th>연령</th>\n",
       "      <th>age_group</th>\n",
       "      <th>사용횟수</th>\n",
       "      <th>사용금액</th>\n",
       "      <th>1회평균사용금액</th>\n",
       "      <th>사용카드</th>\n",
       "      <th>card_category</th>\n",
       "      <th>신용카드</th>\n",
       "    </tr>\n",
       "  </thead>\n",
       "  <tbody>\n",
       "    <tr>\n",
       "      <td>0</td>\n",
       "      <td>20180401</td>\n",
       "      <td>노원구</td>\n",
       "      <td>상계2동</td>\n",
       "      <td>종로구 상계2동</td>\n",
       "      <td>자동차정비</td>\n",
       "      <td>여성</td>\n",
       "      <td>42</td>\n",
       "      <td>4</td>\n",
       "      <td>3</td>\n",
       "      <td>56</td>\n",
       "      <td>18.66666667</td>\n",
       "      <td>82</td>\n",
       "      <td>public</td>\n",
       "      <td>0</td>\n",
       "    </tr>\n",
       "    <tr>\n",
       "      <td>1</td>\n",
       "      <td>20180401</td>\n",
       "      <td>종로구</td>\n",
       "      <td>혜화동</td>\n",
       "      <td>종로구 혜화동</td>\n",
       "      <td>유통업</td>\n",
       "      <td>여성</td>\n",
       "      <td>43</td>\n",
       "      <td>4</td>\n",
       "      <td>2</td>\n",
       "      <td>50</td>\n",
       "      <td>25</td>\n",
       "      <td>61</td>\n",
       "      <td>travel</td>\n",
       "      <td>0</td>\n",
       "    </tr>\n",
       "    <tr>\n",
       "      <td>8</td>\n",
       "      <td>20180401</td>\n",
       "      <td>종로구</td>\n",
       "      <td>창신2동</td>\n",
       "      <td>종로구 창신2동</td>\n",
       "      <td>수리서비스</td>\n",
       "      <td>남성</td>\n",
       "      <td>37</td>\n",
       "      <td>3</td>\n",
       "      <td>4</td>\n",
       "      <td>58</td>\n",
       "      <td>14.5</td>\n",
       "      <td>19</td>\n",
       "      <td>shopping</td>\n",
       "      <td>0</td>\n",
       "    </tr>\n",
       "    <tr>\n",
       "      <td>19</td>\n",
       "      <td>20180401</td>\n",
       "      <td>종로구</td>\n",
       "      <td>삼청동</td>\n",
       "      <td>종로구 삼청동</td>\n",
       "      <td>서적문구</td>\n",
       "      <td>여성</td>\n",
       "      <td>46</td>\n",
       "      <td>4</td>\n",
       "      <td>2</td>\n",
       "      <td>56</td>\n",
       "      <td>28</td>\n",
       "      <td>77</td>\n",
       "      <td>public</td>\n",
       "      <td>0</td>\n",
       "    </tr>\n",
       "    <tr>\n",
       "      <td>20</td>\n",
       "      <td>20180401</td>\n",
       "      <td>노원구</td>\n",
       "      <td>상계8동</td>\n",
       "      <td>노원구 상계8동</td>\n",
       "      <td>서적문구</td>\n",
       "      <td>여성</td>\n",
       "      <td>48</td>\n",
       "      <td>4</td>\n",
       "      <td>2</td>\n",
       "      <td>58</td>\n",
       "      <td>29</td>\n",
       "      <td>36</td>\n",
       "      <td>food</td>\n",
       "      <td>0</td>\n",
       "    </tr>\n",
       "  </tbody>\n",
       "</table>\n",
       "</div>"
      ],
      "text/plain": [
       "        사용일자    구   소비처        주소  소비처업종  성별  연령  age_group  사용횟수  사용금액  \\\n",
       "0   20180401  노원구  상계2동  종로구 상계2동  자동차정비  여성  42          4     3    56   \n",
       "1   20180401  종로구   혜화동   종로구 혜화동    유통업  여성  43          4     2    50   \n",
       "8   20180401  종로구  창신2동  종로구 창신2동  수리서비스  남성  37          3     4    58   \n",
       "19  20180401  종로구   삼청동   종로구 삼청동   서적문구  여성  46          4     2    56   \n",
       "20  20180401  노원구  상계8동  노원구 상계8동   서적문구  여성  48          4     2    58   \n",
       "\n",
       "       1회평균사용금액  사용카드 card_category  신용카드  \n",
       "0   18.66666667    82        public     0  \n",
       "1            25    61        travel     0  \n",
       "8          14.5    19      shopping     0  \n",
       "19           28    77        public     0  \n",
       "20           29    36          food     0  "
      ]
     },
     "execution_count": 4,
     "metadata": {},
     "output_type": "execute_result"
    }
   ],
   "source": [
    "df_check = df_raw[df_raw[\"신용카드\"] ==0]\n",
    "df_check.head()"
   ]
  },
  {
   "cell_type": "code",
   "execution_count": 51,
   "metadata": {
    "scrolled": true
   },
   "outputs": [
    {
     "data": {
      "text/html": [
       "<div>\n",
       "<style scoped>\n",
       "    .dataframe tbody tr th:only-of-type {\n",
       "        vertical-align: middle;\n",
       "    }\n",
       "\n",
       "    .dataframe tbody tr th {\n",
       "        vertical-align: top;\n",
       "    }\n",
       "\n",
       "    .dataframe thead th {\n",
       "        text-align: right;\n",
       "    }\n",
       "</style>\n",
       "<table border=\"1\" class=\"dataframe\">\n",
       "  <thead>\n",
       "    <tr style=\"text-align: right;\">\n",
       "      <th></th>\n",
       "      <th>사용금액</th>\n",
       "    </tr>\n",
       "    <tr>\n",
       "      <th>age_group</th>\n",
       "      <th></th>\n",
       "    </tr>\n",
       "  </thead>\n",
       "  <tbody>\n",
       "    <tr>\n",
       "      <td>2</td>\n",
       "      <td>29704605</td>\n",
       "    </tr>\n",
       "    <tr>\n",
       "      <td>4</td>\n",
       "      <td>10473988</td>\n",
       "    </tr>\n",
       "    <tr>\n",
       "      <td>5</td>\n",
       "      <td>10059764</td>\n",
       "    </tr>\n",
       "    <tr>\n",
       "      <td>6</td>\n",
       "      <td>8873182</td>\n",
       "    </tr>\n",
       "    <tr>\n",
       "      <td>3</td>\n",
       "      <td>6881704</td>\n",
       "    </tr>\n",
       "    <tr>\n",
       "      <td>7</td>\n",
       "      <td>16692</td>\n",
       "    </tr>\n",
       "    <tr>\n",
       "      <td>8</td>\n",
       "      <td>6924</td>\n",
       "    </tr>\n",
       "    <tr>\n",
       "      <td>9</td>\n",
       "      <td>2252</td>\n",
       "    </tr>\n",
       "  </tbody>\n",
       "</table>\n",
       "</div>"
      ],
      "text/plain": [
       "               사용금액\n",
       "age_group          \n",
       "2          29704605\n",
       "4          10473988\n",
       "5          10059764\n",
       "6           8873182\n",
       "3           6881704\n",
       "7             16692\n",
       "8              6924\n",
       "9              2252"
      ]
     },
     "execution_count": 51,
     "metadata": {},
     "output_type": "execute_result"
    }
   ],
   "source": [
    "# 연령별 체크카드 사용금액\n",
    "df_check_age = df_check.groupby([\"age_group\"])[\"사용금액\"].sum().reset_index().sort_values(by='사용금액',ascending=False).head(10)\n",
    "df_check_age1 = df_check_age.set_index(\"age_group\")\n",
    "df_check_age1"
   ]
  },
  {
   "cell_type": "code",
   "execution_count": 52,
   "metadata": {
    "scrolled": false
   },
   "outputs": [
    {
     "data": {
      "text/plain": [
       "Text(0, 0.5, '사용금액')"
      ]
     },
     "execution_count": 52,
     "metadata": {},
     "output_type": "execute_result"
    },
    {
     "data": {
      "image/png": "[encoded data removed]",
      "text/plain": [
       "<Figure size 864x288 with 1 Axes>"
      ]
     },
     "metadata": {
      "needs_background": "light"
     },
     "output_type": "display_data"
    }
   ],
   "source": [
    "ax = df_check_age1.plot(kind='bar', title='연령별 체크카드 사용금액', figsize=(12, 4), legend=True, fontsize=12)\n",
    "# ax.set_xlabel('도시', fontsize=12)          # x축 정보 표시\n",
    "ax.set_ylabel('사용금액', fontsize=10)     # y축 정보 표시\n",
    "# ax.legend(['기온', '습도'], fontsize=12)    # 범례 지정"
   ]
  },
  {
   "cell_type": "code",
   "execution_count": 55,
   "metadata": {
    "scrolled": true
   },
   "outputs": [
    {
     "data": {
      "text/html": [
       "<div>\n",
       "<style scoped>\n",
       "    .dataframe tbody tr th:only-of-type {\n",
       "        vertical-align: middle;\n",
       "    }\n",
       "\n",
       "    .dataframe tbody tr th {\n",
       "        vertical-align: top;\n",
       "    }\n",
       "\n",
       "    .dataframe thead th {\n",
       "        text-align: right;\n",
       "    }\n",
       "</style>\n",
       "<table border=\"1\" class=\"dataframe\">\n",
       "  <thead>\n",
       "    <tr style=\"text-align: right;\">\n",
       "      <th></th>\n",
       "      <th>age_group</th>\n",
       "      <th>사용금액</th>\n",
       "    </tr>\n",
       "  </thead>\n",
       "  <tbody>\n",
       "    <tr>\n",
       "      <td>0</td>\n",
       "      <td>2</td>\n",
       "      <td>29704605</td>\n",
       "    </tr>\n",
       "    <tr>\n",
       "      <td>2</td>\n",
       "      <td>4</td>\n",
       "      <td>10473988</td>\n",
       "    </tr>\n",
       "    <tr>\n",
       "      <td>3</td>\n",
       "      <td>5</td>\n",
       "      <td>10059764</td>\n",
       "    </tr>\n",
       "    <tr>\n",
       "      <td>4</td>\n",
       "      <td>6</td>\n",
       "      <td>8873182</td>\n",
       "    </tr>\n",
       "    <tr>\n",
       "      <td>1</td>\n",
       "      <td>3</td>\n",
       "      <td>6881704</td>\n",
       "    </tr>\n",
       "    <tr>\n",
       "      <td>5</td>\n",
       "      <td>7</td>\n",
       "      <td>16692</td>\n",
       "    </tr>\n",
       "    <tr>\n",
       "      <td>6</td>\n",
       "      <td>8</td>\n",
       "      <td>6924</td>\n",
       "    </tr>\n",
       "    <tr>\n",
       "      <td>7</td>\n",
       "      <td>9</td>\n",
       "      <td>2252</td>\n",
       "    </tr>\n",
       "  </tbody>\n",
       "</table>\n",
       "</div>"
      ],
      "text/plain": [
       "   age_group      사용금액\n",
       "0          2  29704605\n",
       "2          4  10473988\n",
       "3          5  10059764\n",
       "4          6   8873182\n",
       "1          3   6881704\n",
       "5          7     16692\n",
       "6          8      6924\n",
       "7          9      2252"
      ]
     },
     "execution_count": 55,
     "metadata": {},
     "output_type": "execute_result"
    }
   ],
   "source": [
    "df_check_age"
   ]
  },
  {
   "cell_type": "code",
   "execution_count": 57,
   "metadata": {},
   "outputs": [
    {
     "data": {
      "text/html": [
       "<div>\n",
       "<style scoped>\n",
       "    .dataframe tbody tr th:only-of-type {\n",
       "        vertical-align: middle;\n",
       "    }\n",
       "\n",
       "    .dataframe tbody tr th {\n",
       "        vertical-align: top;\n",
       "    }\n",
       "\n",
       "    .dataframe thead th {\n",
       "        text-align: right;\n",
       "    }\n",
       "</style>\n",
       "<table border=\"1\" class=\"dataframe\">\n",
       "  <thead>\n",
       "    <tr style=\"text-align: right;\">\n",
       "      <th></th>\n",
       "      <th>age_group</th>\n",
       "      <th>사용금액</th>\n",
       "    </tr>\n",
       "  </thead>\n",
       "  <tbody>\n",
       "    <tr>\n",
       "      <td>2</td>\n",
       "      <td>4</td>\n",
       "      <td>74416532</td>\n",
       "    </tr>\n",
       "    <tr>\n",
       "      <td>1</td>\n",
       "      <td>3</td>\n",
       "      <td>60552959</td>\n",
       "    </tr>\n",
       "    <tr>\n",
       "      <td>3</td>\n",
       "      <td>5</td>\n",
       "      <td>57755888</td>\n",
       "    </tr>\n",
       "    <tr>\n",
       "      <td>4</td>\n",
       "      <td>6</td>\n",
       "      <td>34709966</td>\n",
       "    </tr>\n",
       "    <tr>\n",
       "      <td>0</td>\n",
       "      <td>2</td>\n",
       "      <td>24394045</td>\n",
       "    </tr>\n",
       "    <tr>\n",
       "      <td>5</td>\n",
       "      <td>7</td>\n",
       "      <td>784619</td>\n",
       "    </tr>\n",
       "    <tr>\n",
       "      <td>6</td>\n",
       "      <td>8</td>\n",
       "      <td>460320</td>\n",
       "    </tr>\n",
       "    <tr>\n",
       "      <td>7</td>\n",
       "      <td>9</td>\n",
       "      <td>149161</td>\n",
       "    </tr>\n",
       "  </tbody>\n",
       "</table>\n",
       "</div>"
      ],
      "text/plain": [
       "   age_group      사용금액\n",
       "2          4  74416532\n",
       "1          3  60552959\n",
       "3          5  57755888\n",
       "4          6  34709966\n",
       "0          2  24394045\n",
       "5          7    784619\n",
       "6          8    460320\n",
       "7          9    149161"
      ]
     },
     "execution_count": 57,
     "metadata": {},
     "output_type": "execute_result"
    }
   ],
   "source": [
    "df_credit_age"
   ]
  },
  {
   "cell_type": "code",
   "execution_count": 63,
   "metadata": {
    "scrolled": true
   },
   "outputs": [
    {
     "data": {
      "text/html": [
       "<div>\n",
       "<style scoped>\n",
       "    .dataframe tbody tr th:only-of-type {\n",
       "        vertical-align: middle;\n",
       "    }\n",
       "\n",
       "    .dataframe tbody tr th {\n",
       "        vertical-align: top;\n",
       "    }\n",
       "\n",
       "    .dataframe thead th {\n",
       "        text-align: right;\n",
       "    }\n",
       "</style>\n",
       "<table border=\"1\" class=\"dataframe\">\n",
       "  <thead>\n",
       "    <tr style=\"text-align: right;\">\n",
       "      <th></th>\n",
       "      <th>신용카드</th>\n",
       "      <th>체크카드</th>\n",
       "    </tr>\n",
       "    <tr>\n",
       "      <th>age_group</th>\n",
       "      <th></th>\n",
       "      <th></th>\n",
       "    </tr>\n",
       "  </thead>\n",
       "  <tbody>\n",
       "    <tr>\n",
       "      <td>4</td>\n",
       "      <td>74416532</td>\n",
       "      <td>10473988</td>\n",
       "    </tr>\n",
       "    <tr>\n",
       "      <td>3</td>\n",
       "      <td>60552959</td>\n",
       "      <td>6881704</td>\n",
       "    </tr>\n",
       "    <tr>\n",
       "      <td>5</td>\n",
       "      <td>57755888</td>\n",
       "      <td>10059764</td>\n",
       "    </tr>\n",
       "    <tr>\n",
       "      <td>6</td>\n",
       "      <td>34709966</td>\n",
       "      <td>8873182</td>\n",
       "    </tr>\n",
       "    <tr>\n",
       "      <td>2</td>\n",
       "      <td>24394045</td>\n",
       "      <td>29704605</td>\n",
       "    </tr>\n",
       "    <tr>\n",
       "      <td>7</td>\n",
       "      <td>784619</td>\n",
       "      <td>16692</td>\n",
       "    </tr>\n",
       "    <tr>\n",
       "      <td>8</td>\n",
       "      <td>460320</td>\n",
       "      <td>6924</td>\n",
       "    </tr>\n",
       "    <tr>\n",
       "      <td>9</td>\n",
       "      <td>149161</td>\n",
       "      <td>2252</td>\n",
       "    </tr>\n",
       "  </tbody>\n",
       "</table>\n",
       "</div>"
      ],
      "text/plain": [
       "               신용카드      체크카드\n",
       "age_group                    \n",
       "4          74416532  10473988\n",
       "3          60552959   6881704\n",
       "5          57755888  10059764\n",
       "6          34709966   8873182\n",
       "2          24394045  29704605\n",
       "7            784619     16692\n",
       "8            460320      6924\n",
       "9            149161      2252"
      ]
     },
     "execution_count": 63,
     "metadata": {},
     "output_type": "execute_result"
    }
   ],
   "source": [
    "card_merge = pd.merge(df_credit_age,df_check_age, on=\"age_group\")\n",
    "card_merge.rename(columns={\"사용금액_x\":\"신용카드\"}, inplace = True) \n",
    "card_merge.rename(columns={\"사용금액_y\":\"체크카드\"}, inplace = True)\n",
    "card_merge1 = card_merge.set_index(\"age_group\")\n",
    "card_merge1"
   ]
  },
  {
   "cell_type": "code",
   "execution_count": 64,
   "metadata": {},
   "outputs": [
    {
     "data": {
      "text/plain": [
       "Text(0, 0.5, '사용금액')"
      ]
     },
     "execution_count": 64,
     "metadata": {},
     "output_type": "execute_result"
    },
    {
     "data": {
      "image/png": "[encoded data removed]",
      "text/plain": [
       "<Figure size 864x288 with 1 Axes>"
      ]
     },
     "metadata": {
      "needs_background": "light"
     },
     "output_type": "display_data"
    }
   ],
   "source": [
    "ax = card_merge1.plot(kind='bar', title='연령별 신용/체크카드 사용금액', figsize=(12, 4), legend=True, fontsize=12)\n",
    "# ax.set_xlabel('도시', fontsize=12)          # x축 정보 표시\n",
    "ax.set_ylabel('사용금액', fontsize=10)     # y축 정보 표시\n",
    "# ax.legend(['기온', '습도'], fontsize=12)    # 범례 지정"
   ]
  },
  {
   "cell_type": "code",
   "execution_count": 75,
   "metadata": {},
   "outputs": [
    {
     "data": {
      "text/plain": [
       "<matplotlib.axes._subplots.AxesSubplot at 0x1ac294d6948>"
      ]
     },
     "execution_count": 75,
     "metadata": {},
     "output_type": "execute_result"
    },
    {
     "data": {
      "image/png": "[encoded data removed]",
      "text/plain": [
       "<Figure size 720x288 with 1 Axes>"
      ]
     },
     "metadata": {
      "needs_background": "light"
     },
     "output_type": "display_data"
    }
   ],
   "source": [
    "card_merge1.plot.bar(stacked=True, figsize=(10, 4),  title='연령별 신용/체크카드 사용금액')"
   ]
  },
  {
   "cell_type": "markdown",
   "metadata": {},
   "source": [
    "# 20대 초반, 중반, 후반 신용카드 체크카드 사용금액"
   ]
  },
  {
   "cell_type": "code",
   "execution_count": 102,
   "metadata": {},
   "outputs": [],
   "source": [
    "def get_category(age):\n",
    "    cat = ''\n",
    "    if age<24: cat = 'early twenty'\n",
    "    elif age<27: cat = 'mid twenty'\n",
    "    else : cat = 'late twenty'\n",
    "    \n",
    "    return cat"
   ]
  },
  {
   "cell_type": "code",
   "execution_count": 103,
   "metadata": {},
   "outputs": [
    {
     "name": "stderr",
     "output_type": "stream",
     "text": [
      "C:\\Users\\JHCho\\Anaconda3\\lib\\site-packages\\ipykernel_launcher.py:2: SettingWithCopyWarning: \n",
      "A value is trying to be set on a copy of a slice from a DataFrame.\n",
      "Try using .loc[row_indexer,col_indexer] = value instead\n",
      "\n",
      "See the caveats in the documentation: http://pandas.pydata.org/pandas-docs/stable/user_guide/indexing.html#returning-a-view-versus-a-copy\n",
      "  \n"
     ]
    },
    {
     "data": {
      "text/html": [
       "<div>\n",
       "<style scoped>\n",
       "    .dataframe tbody tr th:only-of-type {\n",
       "        vertical-align: middle;\n",
       "    }\n",
       "\n",
       "    .dataframe tbody tr th {\n",
       "        vertical-align: top;\n",
       "    }\n",
       "\n",
       "    .dataframe thead th {\n",
       "        text-align: right;\n",
       "    }\n",
       "</style>\n",
       "<table border=\"1\" class=\"dataframe\">\n",
       "  <thead>\n",
       "    <tr style=\"text-align: right;\">\n",
       "      <th></th>\n",
       "      <th>사용일자</th>\n",
       "      <th>구</th>\n",
       "      <th>소비처</th>\n",
       "      <th>주소</th>\n",
       "      <th>소비처업종</th>\n",
       "      <th>성별</th>\n",
       "      <th>연령</th>\n",
       "      <th>age_group</th>\n",
       "      <th>사용횟수</th>\n",
       "      <th>사용금액</th>\n",
       "      <th>1회평균사용금액</th>\n",
       "      <th>사용카드</th>\n",
       "      <th>card_category</th>\n",
       "      <th>신용카드</th>\n",
       "      <th>group</th>\n",
       "    </tr>\n",
       "  </thead>\n",
       "  <tbody>\n",
       "    <tr>\n",
       "      <td>36</td>\n",
       "      <td>20180401</td>\n",
       "      <td>노원구</td>\n",
       "      <td>하계1동</td>\n",
       "      <td>종로구 하계1동</td>\n",
       "      <td>의료기관</td>\n",
       "      <td>여성</td>\n",
       "      <td>26</td>\n",
       "      <td>2</td>\n",
       "      <td>42</td>\n",
       "      <td>179</td>\n",
       "      <td>4.261904762</td>\n",
       "      <td>50</td>\n",
       "      <td>culture</td>\n",
       "      <td>0</td>\n",
       "      <td>mid twenty</td>\n",
       "    </tr>\n",
       "    <tr>\n",
       "      <td>48</td>\n",
       "      <td>20180401</td>\n",
       "      <td>종로구</td>\n",
       "      <td>사직동</td>\n",
       "      <td>노원구 사직동</td>\n",
       "      <td>의료기관</td>\n",
       "      <td>남성</td>\n",
       "      <td>29</td>\n",
       "      <td>2</td>\n",
       "      <td>17</td>\n",
       "      <td>98</td>\n",
       "      <td>5.764705882</td>\n",
       "      <td>51</td>\n",
       "      <td>culture</td>\n",
       "      <td>0</td>\n",
       "      <td>late twenty</td>\n",
       "    </tr>\n",
       "    <tr>\n",
       "      <td>55</td>\n",
       "      <td>20180401</td>\n",
       "      <td>노원구</td>\n",
       "      <td>상계8동</td>\n",
       "      <td>종로구 상계8동</td>\n",
       "      <td>의료기관</td>\n",
       "      <td>여성</td>\n",
       "      <td>24</td>\n",
       "      <td>2</td>\n",
       "      <td>10</td>\n",
       "      <td>86</td>\n",
       "      <td>8.6</td>\n",
       "      <td>50</td>\n",
       "      <td>culture</td>\n",
       "      <td>0</td>\n",
       "      <td>mid twenty</td>\n",
       "    </tr>\n",
       "    <tr>\n",
       "      <td>64</td>\n",
       "      <td>20180401</td>\n",
       "      <td>종로구</td>\n",
       "      <td>창신2동</td>\n",
       "      <td>노원구 창신2동</td>\n",
       "      <td>연료판매</td>\n",
       "      <td>남성</td>\n",
       "      <td>24</td>\n",
       "      <td>2</td>\n",
       "      <td>25</td>\n",
       "      <td>86</td>\n",
       "      <td>3.44</td>\n",
       "      <td>28</td>\n",
       "      <td>onlineShopping</td>\n",
       "      <td>0</td>\n",
       "      <td>mid twenty</td>\n",
       "    </tr>\n",
       "    <tr>\n",
       "      <td>77</td>\n",
       "      <td>20180401</td>\n",
       "      <td>종로구</td>\n",
       "      <td>창신2동</td>\n",
       "      <td>노원구 창신2동</td>\n",
       "      <td>의료기관</td>\n",
       "      <td>여성</td>\n",
       "      <td>22</td>\n",
       "      <td>2</td>\n",
       "      <td>10</td>\n",
       "      <td>193</td>\n",
       "      <td>19.3</td>\n",
       "      <td>87</td>\n",
       "      <td>life</td>\n",
       "      <td>0</td>\n",
       "      <td>early twenty</td>\n",
       "    </tr>\n",
       "  </tbody>\n",
       "</table>\n",
       "</div>"
      ],
      "text/plain": [
       "        사용일자    구   소비처        주소 소비처업종  성별  연령  age_group  사용횟수  사용금액  \\\n",
       "36  20180401  노원구  하계1동  종로구 하계1동  의료기관  여성  26          2    42   179   \n",
       "48  20180401  종로구   사직동   노원구 사직동  의료기관  남성  29          2    17    98   \n",
       "55  20180401  노원구  상계8동  종로구 상계8동  의료기관  여성  24          2    10    86   \n",
       "64  20180401  종로구  창신2동  노원구 창신2동  연료판매  남성  24          2    25    86   \n",
       "77  20180401  종로구  창신2동  노원구 창신2동  의료기관  여성  22          2    10   193   \n",
       "\n",
       "       1회평균사용금액  사용카드   card_category  신용카드         group  \n",
       "36  4.261904762    50         culture     0    mid twenty  \n",
       "48  5.764705882    51         culture     0   late twenty  \n",
       "55          8.6    50         culture     0    mid twenty  \n",
       "64         3.44    28  onlineShopping     0    mid twenty  \n",
       "77         19.3    87            life     0  early twenty  "
      ]
     },
     "execution_count": 103,
     "metadata": {},
     "output_type": "execute_result"
    }
   ],
   "source": [
    "# 20대 체크카드 사용금액\n",
    "df_twenty = df_check[df_check[\"age_group\"]==2]\n",
    "df_twenty[\"group\"] = df_twenty[\"연령\"].apply(lambda x : get_category(x)) \n",
    "df_twenty.head()"
   ]
  },
  {
   "cell_type": "code",
   "execution_count": 104,
   "metadata": {},
   "outputs": [
    {
     "data": {
      "text/html": [
       "<div>\n",
       "<style scoped>\n",
       "    .dataframe tbody tr th:only-of-type {\n",
       "        vertical-align: middle;\n",
       "    }\n",
       "\n",
       "    .dataframe tbody tr th {\n",
       "        vertical-align: top;\n",
       "    }\n",
       "\n",
       "    .dataframe thead th {\n",
       "        text-align: right;\n",
       "    }\n",
       "</style>\n",
       "<table border=\"1\" class=\"dataframe\">\n",
       "  <thead>\n",
       "    <tr style=\"text-align: right;\">\n",
       "      <th></th>\n",
       "      <th>사용금액</th>\n",
       "    </tr>\n",
       "    <tr>\n",
       "      <th>group</th>\n",
       "      <th></th>\n",
       "    </tr>\n",
       "  </thead>\n",
       "  <tbody>\n",
       "    <tr>\n",
       "      <td>mid twenty</td>\n",
       "      <td>18687086</td>\n",
       "    </tr>\n",
       "    <tr>\n",
       "      <td>early twenty</td>\n",
       "      <td>10872428</td>\n",
       "    </tr>\n",
       "    <tr>\n",
       "      <td>late twenty</td>\n",
       "      <td>145091</td>\n",
       "    </tr>\n",
       "  </tbody>\n",
       "</table>\n",
       "</div>"
      ],
      "text/plain": [
       "                  사용금액\n",
       "group                 \n",
       "mid twenty    18687086\n",
       "early twenty  10872428\n",
       "late twenty     145091"
      ]
     },
     "execution_count": 104,
     "metadata": {},
     "output_type": "execute_result"
    }
   ],
   "source": [
    "# 20대 체크카드 사용금액\n",
    "df_check_group = df_twenty.groupby([\"group\"])[\"사용금액\"].sum().reset_index().sort_values(by='사용금액',ascending=False).head(10)\n",
    "df_check_group1 = df_check_group.set_index(\"group\")\n",
    "df_check_group1"
   ]
  },
  {
   "cell_type": "code",
   "execution_count": 105,
   "metadata": {
    "scrolled": true
   },
   "outputs": [
    {
     "name": "stderr",
     "output_type": "stream",
     "text": [
      "C:\\Users\\JHCho\\Anaconda3\\lib\\site-packages\\ipykernel_launcher.py:3: SettingWithCopyWarning: \n",
      "A value is trying to be set on a copy of a slice from a DataFrame.\n",
      "Try using .loc[row_indexer,col_indexer] = value instead\n",
      "\n",
      "See the caveats in the documentation: http://pandas.pydata.org/pandas-docs/stable/user_guide/indexing.html#returning-a-view-versus-a-copy\n",
      "  This is separate from the ipykernel package so we can avoid doing imports until\n"
     ]
    },
    {
     "data": {
      "text/html": [
       "<div>\n",
       "<style scoped>\n",
       "    .dataframe tbody tr th:only-of-type {\n",
       "        vertical-align: middle;\n",
       "    }\n",
       "\n",
       "    .dataframe tbody tr th {\n",
       "        vertical-align: top;\n",
       "    }\n",
       "\n",
       "    .dataframe thead th {\n",
       "        text-align: right;\n",
       "    }\n",
       "</style>\n",
       "<table border=\"1\" class=\"dataframe\">\n",
       "  <thead>\n",
       "    <tr style=\"text-align: right;\">\n",
       "      <th></th>\n",
       "      <th>사용일자</th>\n",
       "      <th>구</th>\n",
       "      <th>소비처</th>\n",
       "      <th>주소</th>\n",
       "      <th>소비처업종</th>\n",
       "      <th>성별</th>\n",
       "      <th>연령</th>\n",
       "      <th>age_group</th>\n",
       "      <th>사용횟수</th>\n",
       "      <th>사용금액</th>\n",
       "      <th>1회평균사용금액</th>\n",
       "      <th>사용카드</th>\n",
       "      <th>card_category</th>\n",
       "      <th>신용카드</th>\n",
       "      <th>group</th>\n",
       "    </tr>\n",
       "  </thead>\n",
       "  <tbody>\n",
       "    <tr>\n",
       "      <td>26</td>\n",
       "      <td>20180401</td>\n",
       "      <td>종로구</td>\n",
       "      <td>청운효자동</td>\n",
       "      <td>종로구 청운효자동</td>\n",
       "      <td>보건위생</td>\n",
       "      <td>여성</td>\n",
       "      <td>22</td>\n",
       "      <td>2</td>\n",
       "      <td>3</td>\n",
       "      <td>56</td>\n",
       "      <td>18.66666667</td>\n",
       "      <td>155</td>\n",
       "      <td>onlineShopping</td>\n",
       "      <td>1</td>\n",
       "      <td>early twenty</td>\n",
       "    </tr>\n",
       "    <tr>\n",
       "      <td>32</td>\n",
       "      <td>20180401</td>\n",
       "      <td>노원구</td>\n",
       "      <td>상계2동</td>\n",
       "      <td>노원구 상계2동</td>\n",
       "      <td>유통업</td>\n",
       "      <td>여성</td>\n",
       "      <td>25</td>\n",
       "      <td>2</td>\n",
       "      <td>46</td>\n",
       "      <td>133</td>\n",
       "      <td>2.891304348</td>\n",
       "      <td>218</td>\n",
       "      <td>comm</td>\n",
       "      <td>1</td>\n",
       "      <td>mid twenty</td>\n",
       "    </tr>\n",
       "    <tr>\n",
       "      <td>34</td>\n",
       "      <td>20180401</td>\n",
       "      <td>노원구</td>\n",
       "      <td>상계2동</td>\n",
       "      <td>노원구 상계2동</td>\n",
       "      <td>의료기관</td>\n",
       "      <td>남성</td>\n",
       "      <td>26</td>\n",
       "      <td>2</td>\n",
       "      <td>53</td>\n",
       "      <td>198</td>\n",
       "      <td>3.735849057</td>\n",
       "      <td>100</td>\n",
       "      <td>life</td>\n",
       "      <td>1</td>\n",
       "      <td>mid twenty</td>\n",
       "    </tr>\n",
       "    <tr>\n",
       "      <td>47</td>\n",
       "      <td>20180401</td>\n",
       "      <td>노원구</td>\n",
       "      <td>중계2,3동</td>\n",
       "      <td>노원구 중계2,3동</td>\n",
       "      <td>의복</td>\n",
       "      <td>남성</td>\n",
       "      <td>28</td>\n",
       "      <td>2</td>\n",
       "      <td>35</td>\n",
       "      <td>191</td>\n",
       "      <td>5.457142857</td>\n",
       "      <td>139</td>\n",
       "      <td>shopping</td>\n",
       "      <td>1</td>\n",
       "      <td>late twenty</td>\n",
       "    </tr>\n",
       "    <tr>\n",
       "      <td>117</td>\n",
       "      <td>20180401</td>\n",
       "      <td>노원구</td>\n",
       "      <td>상계5동</td>\n",
       "      <td>종로구 상계5동</td>\n",
       "      <td>보건위생</td>\n",
       "      <td>여성</td>\n",
       "      <td>29</td>\n",
       "      <td>2</td>\n",
       "      <td>18</td>\n",
       "      <td>141</td>\n",
       "      <td>7.833333333</td>\n",
       "      <td>107</td>\n",
       "      <td>life</td>\n",
       "      <td>1</td>\n",
       "      <td>late twenty</td>\n",
       "    </tr>\n",
       "  </tbody>\n",
       "</table>\n",
       "</div>"
      ],
      "text/plain": [
       "         사용일자    구     소비처          주소 소비처업종  성별  연령  age_group  사용횟수  사용금액  \\\n",
       "26   20180401  종로구   청운효자동   종로구 청운효자동  보건위생  여성  22          2     3    56   \n",
       "32   20180401  노원구    상계2동    노원구 상계2동   유통업  여성  25          2    46   133   \n",
       "34   20180401  노원구    상계2동    노원구 상계2동  의료기관  남성  26          2    53   198   \n",
       "47   20180401  노원구  중계2,3동  노원구 중계2,3동    의복  남성  28          2    35   191   \n",
       "117  20180401  노원구    상계5동    종로구 상계5동  보건위생  여성  29          2    18   141   \n",
       "\n",
       "        1회평균사용금액  사용카드   card_category  신용카드         group  \n",
       "26   18.66666667   155  onlineShopping     1  early twenty  \n",
       "32   2.891304348   218            comm     1    mid twenty  \n",
       "34   3.735849057   100            life     1    mid twenty  \n",
       "47   5.457142857   139        shopping     1   late twenty  \n",
       "117  7.833333333   107            life     1   late twenty  "
      ]
     },
     "execution_count": 105,
     "metadata": {},
     "output_type": "execute_result"
    }
   ],
   "source": [
    "# 20대 신용카드 사용금액\n",
    "df_twenty_df_credit = df_credit[df_credit[\"age_group\"]==2]\n",
    "df_twenty_df_credit[\"group\"] = df_twenty_df_credit[\"연령\"].apply(lambda x : get_category(x)) \n",
    "df_twenty_df_credit.head()"
   ]
  },
  {
   "cell_type": "code",
   "execution_count": 106,
   "metadata": {
    "scrolled": true
   },
   "outputs": [
    {
     "data": {
      "text/html": [
       "<div>\n",
       "<style scoped>\n",
       "    .dataframe tbody tr th:only-of-type {\n",
       "        vertical-align: middle;\n",
       "    }\n",
       "\n",
       "    .dataframe tbody tr th {\n",
       "        vertical-align: top;\n",
       "    }\n",
       "\n",
       "    .dataframe thead th {\n",
       "        text-align: right;\n",
       "    }\n",
       "</style>\n",
       "<table border=\"1\" class=\"dataframe\">\n",
       "  <thead>\n",
       "    <tr style=\"text-align: right;\">\n",
       "      <th></th>\n",
       "      <th>사용금액</th>\n",
       "    </tr>\n",
       "    <tr>\n",
       "      <th>group</th>\n",
       "      <th></th>\n",
       "    </tr>\n",
       "  </thead>\n",
       "  <tbody>\n",
       "    <tr>\n",
       "      <td>mid twenty</td>\n",
       "      <td>14795939</td>\n",
       "    </tr>\n",
       "    <tr>\n",
       "      <td>early twenty</td>\n",
       "      <td>9337304</td>\n",
       "    </tr>\n",
       "    <tr>\n",
       "      <td>late twenty</td>\n",
       "      <td>260802</td>\n",
       "    </tr>\n",
       "  </tbody>\n",
       "</table>\n",
       "</div>"
      ],
      "text/plain": [
       "                  사용금액\n",
       "group                 \n",
       "mid twenty    14795939\n",
       "early twenty   9337304\n",
       "late twenty     260802"
      ]
     },
     "execution_count": 106,
     "metadata": {},
     "output_type": "execute_result"
    }
   ],
   "source": [
    "# 20대 신용카드 사용금액\n",
    "df_check_group_credit = df_twenty_df_credit.groupby([\"group\"])[\"사용금액\"].sum().reset_index().sort_values(by='사용금액',ascending=False).head(10)\n",
    "df_check_group_credit1 = df_check_group_credit.set_index(\"group\")\n",
    "df_check_group_credit1"
   ]
  },
  {
   "cell_type": "code",
   "execution_count": 107,
   "metadata": {},
   "outputs": [
    {
     "data": {
      "text/html": [
       "<div>\n",
       "<style scoped>\n",
       "    .dataframe tbody tr th:only-of-type {\n",
       "        vertical-align: middle;\n",
       "    }\n",
       "\n",
       "    .dataframe tbody tr th {\n",
       "        vertical-align: top;\n",
       "    }\n",
       "\n",
       "    .dataframe thead th {\n",
       "        text-align: right;\n",
       "    }\n",
       "</style>\n",
       "<table border=\"1\" class=\"dataframe\">\n",
       "  <thead>\n",
       "    <tr style=\"text-align: right;\">\n",
       "      <th></th>\n",
       "      <th>사용금액_x</th>\n",
       "      <th>사용금액_y</th>\n",
       "    </tr>\n",
       "    <tr>\n",
       "      <th>group</th>\n",
       "      <th></th>\n",
       "      <th></th>\n",
       "    </tr>\n",
       "  </thead>\n",
       "  <tbody>\n",
       "    <tr>\n",
       "      <td>mid twenty</td>\n",
       "      <td>18687086</td>\n",
       "      <td>14795939</td>\n",
       "    </tr>\n",
       "    <tr>\n",
       "      <td>early twenty</td>\n",
       "      <td>10872428</td>\n",
       "      <td>9337304</td>\n",
       "    </tr>\n",
       "    <tr>\n",
       "      <td>late twenty</td>\n",
       "      <td>145091</td>\n",
       "      <td>260802</td>\n",
       "    </tr>\n",
       "  </tbody>\n",
       "</table>\n",
       "</div>"
      ],
      "text/plain": [
       "                사용금액_x    사용금액_y\n",
       "group                           \n",
       "mid twenty    18687086  14795939\n",
       "early twenty  10872428   9337304\n",
       "late twenty     145091    260802"
      ]
     },
     "execution_count": 107,
     "metadata": {},
     "output_type": "execute_result"
    }
   ],
   "source": [
    "card_merge_age = pd.merge(df_check_group1,df_check_group_credit1, on=\"group\")\n",
    "card_merge_age"
   ]
  },
  {
   "cell_type": "code",
   "execution_count": 109,
   "metadata": {},
   "outputs": [
    {
     "data": {
      "text/html": [
       "<div>\n",
       "<style scoped>\n",
       "    .dataframe tbody tr th:only-of-type {\n",
       "        vertical-align: middle;\n",
       "    }\n",
       "\n",
       "    .dataframe tbody tr th {\n",
       "        vertical-align: top;\n",
       "    }\n",
       "\n",
       "    .dataframe thead th {\n",
       "        text-align: right;\n",
       "    }\n",
       "</style>\n",
       "<table border=\"1\" class=\"dataframe\">\n",
       "  <thead>\n",
       "    <tr style=\"text-align: right;\">\n",
       "      <th></th>\n",
       "      <th>체크카드</th>\n",
       "      <th>신용카드</th>\n",
       "    </tr>\n",
       "    <tr>\n",
       "      <th>group</th>\n",
       "      <th></th>\n",
       "      <th></th>\n",
       "    </tr>\n",
       "  </thead>\n",
       "  <tbody>\n",
       "    <tr>\n",
       "      <td>mid twenty</td>\n",
       "      <td>18687086</td>\n",
       "      <td>14795939</td>\n",
       "    </tr>\n",
       "    <tr>\n",
       "      <td>early twenty</td>\n",
       "      <td>10872428</td>\n",
       "      <td>9337304</td>\n",
       "    </tr>\n",
       "    <tr>\n",
       "      <td>late twenty</td>\n",
       "      <td>145091</td>\n",
       "      <td>260802</td>\n",
       "    </tr>\n",
       "  </tbody>\n",
       "</table>\n",
       "</div>"
      ],
      "text/plain": [
       "                  체크카드      신용카드\n",
       "group                           \n",
       "mid twenty    18687086  14795939\n",
       "early twenty  10872428   9337304\n",
       "late twenty     145091    260802"
      ]
     },
     "execution_count": 109,
     "metadata": {},
     "output_type": "execute_result"
    }
   ],
   "source": [
    "card_merge_age = pd.merge(df_check_group1,df_check_group_credit1, on=\"group\")\n",
    "card_merge_age.rename(columns={\"사용금액_x\":\"체크카드\"}, inplace = True) \n",
    "card_merge_age.rename(columns={\"사용금액_y\":\"신용카드\"}, inplace = True)\n",
    "card_merge_age"
   ]
  },
  {
   "cell_type": "code",
   "execution_count": 110,
   "metadata": {},
   "outputs": [
    {
     "data": {
      "text/plain": [
       "<matplotlib.axes._subplots.AxesSubplot at 0x1ac33484688>"
      ]
     },
     "execution_count": 110,
     "metadata": {},
     "output_type": "execute_result"
    },
    {
     "data": {
      "image/png": "[encoded data removed]",
      "text/plain": [
       "<Figure size 720x288 with 1 Axes>"
      ]
     },
     "metadata": {
      "needs_background": "light"
     },
     "output_type": "display_data"
    }
   ],
   "source": [
    "card_merge_age.plot.bar(stacked=True, figsize=(10, 4),  title='20대 신용/체크카드 사용금액')"
   ]
  },
  {
   "cell_type": "markdown",
   "metadata": {},
   "source": [
    "### 20대 나이별 카드 사용량"
   ]
  },
  {
   "cell_type": "code",
   "execution_count": 111,
   "metadata": {},
   "outputs": [
    {
     "data": {
      "text/html": [
       "<div>\n",
       "<style scoped>\n",
       "    .dataframe tbody tr th:only-of-type {\n",
       "        vertical-align: middle;\n",
       "    }\n",
       "\n",
       "    .dataframe tbody tr th {\n",
       "        vertical-align: top;\n",
       "    }\n",
       "\n",
       "    .dataframe thead th {\n",
       "        text-align: right;\n",
       "    }\n",
       "</style>\n",
       "<table border=\"1\" class=\"dataframe\">\n",
       "  <thead>\n",
       "    <tr style=\"text-align: right;\">\n",
       "      <th></th>\n",
       "      <th>연령</th>\n",
       "      <th>사용금액</th>\n",
       "    </tr>\n",
       "  </thead>\n",
       "  <tbody>\n",
       "    <tr>\n",
       "      <td>0</td>\n",
       "      <td>20</td>\n",
       "      <td>10735429</td>\n",
       "    </tr>\n",
       "    <tr>\n",
       "      <td>1</td>\n",
       "      <td>21</td>\n",
       "      <td>45265</td>\n",
       "    </tr>\n",
       "    <tr>\n",
       "      <td>2</td>\n",
       "      <td>22</td>\n",
       "      <td>41202</td>\n",
       "    </tr>\n",
       "    <tr>\n",
       "      <td>3</td>\n",
       "      <td>23</td>\n",
       "      <td>50532</td>\n",
       "    </tr>\n",
       "    <tr>\n",
       "      <td>4</td>\n",
       "      <td>24</td>\n",
       "      <td>50950</td>\n",
       "    </tr>\n",
       "    <tr>\n",
       "      <td>5</td>\n",
       "      <td>25</td>\n",
       "      <td>18585468</td>\n",
       "    </tr>\n",
       "    <tr>\n",
       "      <td>6</td>\n",
       "      <td>26</td>\n",
       "      <td>50668</td>\n",
       "    </tr>\n",
       "    <tr>\n",
       "      <td>7</td>\n",
       "      <td>27</td>\n",
       "      <td>54303</td>\n",
       "    </tr>\n",
       "    <tr>\n",
       "      <td>8</td>\n",
       "      <td>28</td>\n",
       "      <td>50754</td>\n",
       "    </tr>\n",
       "    <tr>\n",
       "      <td>9</td>\n",
       "      <td>29</td>\n",
       "      <td>40034</td>\n",
       "    </tr>\n",
       "  </tbody>\n",
       "</table>\n",
       "</div>"
      ],
      "text/plain": [
       "   연령      사용금액\n",
       "0  20  10735429\n",
       "1  21     45265\n",
       "2  22     41202\n",
       "3  23     50532\n",
       "4  24     50950\n",
       "5  25  18585468\n",
       "6  26     50668\n",
       "7  27     54303\n",
       "8  28     50754\n",
       "9  29     40034"
      ]
     },
     "execution_count": 111,
     "metadata": {},
     "output_type": "execute_result"
    }
   ],
   "source": [
    "n_age_card = df_twenty.groupby(\"연령\")[\"사용금액\"].sum().reset_index()\n",
    "n_age_card"
   ]
  },
  {
   "cell_type": "code",
   "execution_count": 113,
   "metadata": {},
   "outputs": [
    {
     "data": {
      "text/plain": [
       "<matplotlib.axes._subplots.AxesSubplot at 0x1ac33817148>"
      ]
     },
     "execution_count": 113,
     "metadata": {},
     "output_type": "execute_result"
    },
    {
     "data": {
      "image/png": "[encoded data removed]",
      "text/plain": [
       "<Figure size 432x288 with 1 Axes>"
      ]
     },
     "metadata": {
      "needs_background": "light"
     },
     "output_type": "display_data"
    }
   ],
   "source": [
    "sns.barplot(data=n_age_card, x='연령', y='사용금액')"
   ]
  },
  {
   "cell_type": "markdown",
   "metadata": {},
   "source": [
    "### 사용횟수 기준 상위 10개 카드"
   ]
  },
  {
   "cell_type": "code",
   "execution_count": 5,
   "metadata": {},
   "outputs": [
    {
     "data": {
      "text/html": [
       "<div>\n",
       "<style scoped>\n",
       "    .dataframe tbody tr th:only-of-type {\n",
       "        vertical-align: middle;\n",
       "    }\n",
       "\n",
       "    .dataframe tbody tr th {\n",
       "        vertical-align: top;\n",
       "    }\n",
       "\n",
       "    .dataframe thead th {\n",
       "        text-align: right;\n",
       "    }\n",
       "</style>\n",
       "<table border=\"1\" class=\"dataframe\">\n",
       "  <thead>\n",
       "    <tr style=\"text-align: right;\">\n",
       "      <th></th>\n",
       "      <th>사용카드</th>\n",
       "      <th>사용횟수</th>\n",
       "    </tr>\n",
       "  </thead>\n",
       "  <tbody>\n",
       "    <tr>\n",
       "      <td>37</td>\n",
       "      <td>37</td>\n",
       "      <td>445486</td>\n",
       "    </tr>\n",
       "    <tr>\n",
       "      <td>36</td>\n",
       "      <td>36</td>\n",
       "      <td>445086</td>\n",
       "    </tr>\n",
       "    <tr>\n",
       "      <td>35</td>\n",
       "      <td>35</td>\n",
       "      <td>436279</td>\n",
       "    </tr>\n",
       "    <tr>\n",
       "      <td>34</td>\n",
       "      <td>34</td>\n",
       "      <td>393686</td>\n",
       "    </tr>\n",
       "    <tr>\n",
       "      <td>16</td>\n",
       "      <td>16</td>\n",
       "      <td>58506</td>\n",
       "    </tr>\n",
       "    <tr>\n",
       "      <td>8</td>\n",
       "      <td>8</td>\n",
       "      <td>55322</td>\n",
       "    </tr>\n",
       "    <tr>\n",
       "      <td>2</td>\n",
       "      <td>2</td>\n",
       "      <td>53479</td>\n",
       "    </tr>\n",
       "    <tr>\n",
       "      <td>0</td>\n",
       "      <td>0</td>\n",
       "      <td>52502</td>\n",
       "    </tr>\n",
       "    <tr>\n",
       "      <td>1</td>\n",
       "      <td>1</td>\n",
       "      <td>52496</td>\n",
       "    </tr>\n",
       "    <tr>\n",
       "      <td>13</td>\n",
       "      <td>13</td>\n",
       "      <td>51579</td>\n",
       "    </tr>\n",
       "  </tbody>\n",
       "</table>\n",
       "</div>"
      ],
      "text/plain": [
       "    사용카드    사용횟수\n",
       "37    37  445486\n",
       "36    36  445086\n",
       "35    35  436279\n",
       "34    34  393686\n",
       "16    16   58506\n",
       "8      8   55322\n",
       "2      2   53479\n",
       "0      0   52502\n",
       "1      1   52496\n",
       "13    13   51579"
      ]
     },
     "execution_count": 5,
     "metadata": {},
     "output_type": "execute_result"
    }
   ],
   "source": [
    "df_check.groupby([\"사용카드\"])[\"사용횟수\"].sum().reset_index().sort_values(by='사용횟수',ascending=False).head(10)"
   ]
  },
  {
   "cell_type": "markdown",
   "metadata": {},
   "source": [
    "### 사용금액 기준 상위 10개 카드"
   ]
  },
  {
   "cell_type": "code",
   "execution_count": 6,
   "metadata": {},
   "outputs": [
    {
     "data": {
      "text/html": [
       "<div>\n",
       "<style scoped>\n",
       "    .dataframe tbody tr th:only-of-type {\n",
       "        vertical-align: middle;\n",
       "    }\n",
       "\n",
       "    .dataframe tbody tr th {\n",
       "        vertical-align: top;\n",
       "    }\n",
       "\n",
       "    .dataframe thead th {\n",
       "        text-align: right;\n",
       "    }\n",
       "</style>\n",
       "<table border=\"1\" class=\"dataframe\">\n",
       "  <thead>\n",
       "    <tr style=\"text-align: right;\">\n",
       "      <th></th>\n",
       "      <th>사용카드</th>\n",
       "      <th>사용금액</th>\n",
       "    </tr>\n",
       "  </thead>\n",
       "  <tbody>\n",
       "    <tr>\n",
       "      <td>37</td>\n",
       "      <td>37</td>\n",
       "      <td>6758308</td>\n",
       "    </tr>\n",
       "    <tr>\n",
       "      <td>36</td>\n",
       "      <td>36</td>\n",
       "      <td>6553469</td>\n",
       "    </tr>\n",
       "    <tr>\n",
       "      <td>35</td>\n",
       "      <td>35</td>\n",
       "      <td>6479019</td>\n",
       "    </tr>\n",
       "    <tr>\n",
       "      <td>34</td>\n",
       "      <td>34</td>\n",
       "      <td>5640086</td>\n",
       "    </tr>\n",
       "    <tr>\n",
       "      <td>8</td>\n",
       "      <td>8</td>\n",
       "      <td>2612388</td>\n",
       "    </tr>\n",
       "    <tr>\n",
       "      <td>2</td>\n",
       "      <td>2</td>\n",
       "      <td>2348978</td>\n",
       "    </tr>\n",
       "    <tr>\n",
       "      <td>1</td>\n",
       "      <td>1</td>\n",
       "      <td>2334495</td>\n",
       "    </tr>\n",
       "    <tr>\n",
       "      <td>0</td>\n",
       "      <td>0</td>\n",
       "      <td>2213589</td>\n",
       "    </tr>\n",
       "    <tr>\n",
       "      <td>5</td>\n",
       "      <td>5</td>\n",
       "      <td>2207933</td>\n",
       "    </tr>\n",
       "    <tr>\n",
       "      <td>3</td>\n",
       "      <td>3</td>\n",
       "      <td>2151771</td>\n",
       "    </tr>\n",
       "  </tbody>\n",
       "</table>\n",
       "</div>"
      ],
      "text/plain": [
       "    사용카드     사용금액\n",
       "37    37  6758308\n",
       "36    36  6553469\n",
       "35    35  6479019\n",
       "34    34  5640086\n",
       "8      8  2612388\n",
       "2      2  2348978\n",
       "1      1  2334495\n",
       "0      0  2213589\n",
       "5      5  2207933\n",
       "3      3  2151771"
      ]
     },
     "execution_count": 6,
     "metadata": {},
     "output_type": "execute_result"
    }
   ],
   "source": [
    "df_check.groupby([\"사용카드\"])[\"사용금액\"].sum().reset_index().sort_values(by='사용금액',ascending=False).head(10)"
   ]
  },
  {
   "cell_type": "markdown",
   "metadata": {},
   "source": [
    "# 20대는 무슨 업종에서 체크카드를 많이 사용 하나?"
   ]
  },
  {
   "cell_type": "code",
   "execution_count": 7,
   "metadata": {
    "scrolled": true
   },
   "outputs": [
    {
     "data": {
      "text/html": [
       "<div>\n",
       "<style scoped>\n",
       "    .dataframe tbody tr th:only-of-type {\n",
       "        vertical-align: middle;\n",
       "    }\n",
       "\n",
       "    .dataframe tbody tr th {\n",
       "        vertical-align: top;\n",
       "    }\n",
       "\n",
       "    .dataframe thead th {\n",
       "        text-align: right;\n",
       "    }\n",
       "</style>\n",
       "<table border=\"1\" class=\"dataframe\">\n",
       "  <thead>\n",
       "    <tr style=\"text-align: right;\">\n",
       "      <th></th>\n",
       "      <th>사용금액</th>\n",
       "    </tr>\n",
       "    <tr>\n",
       "      <th>소비처업종</th>\n",
       "      <th></th>\n",
       "    </tr>\n",
       "  </thead>\n",
       "  <tbody>\n",
       "    <tr>\n",
       "      <td>요식업소</td>\n",
       "      <td>25521486</td>\n",
       "    </tr>\n",
       "    <tr>\n",
       "      <td>의료기관</td>\n",
       "      <td>1868942</td>\n",
       "    </tr>\n",
       "    <tr>\n",
       "      <td>음료식품</td>\n",
       "      <td>1080110</td>\n",
       "    </tr>\n",
       "    <tr>\n",
       "      <td>연료판매</td>\n",
       "      <td>608356</td>\n",
       "    </tr>\n",
       "    <tr>\n",
       "      <td>문화취미</td>\n",
       "      <td>575515</td>\n",
       "    </tr>\n",
       "    <tr>\n",
       "      <td>보건위생</td>\n",
       "      <td>27765</td>\n",
       "    </tr>\n",
       "    <tr>\n",
       "      <td>서적문구</td>\n",
       "      <td>10252</td>\n",
       "    </tr>\n",
       "    <tr>\n",
       "      <td>신변잡화</td>\n",
       "      <td>2961</td>\n",
       "    </tr>\n",
       "    <tr>\n",
       "      <td>유통업</td>\n",
       "      <td>2855</td>\n",
       "    </tr>\n",
       "    <tr>\n",
       "      <td>의복</td>\n",
       "      <td>1321</td>\n",
       "    </tr>\n",
       "    <tr>\n",
       "      <td>가전</td>\n",
       "      <td>1169</td>\n",
       "    </tr>\n",
       "    <tr>\n",
       "      <td>자동차정비</td>\n",
       "      <td>1082</td>\n",
       "    </tr>\n",
       "    <tr>\n",
       "      <td>레저업소</td>\n",
       "      <td>1077</td>\n",
       "    </tr>\n",
       "    <tr>\n",
       "      <td>수리서비스</td>\n",
       "      <td>907</td>\n",
       "    </tr>\n",
       "    <tr>\n",
       "      <td>사무통신</td>\n",
       "      <td>294</td>\n",
       "    </tr>\n",
       "    <tr>\n",
       "      <td>직물</td>\n",
       "      <td>225</td>\n",
       "    </tr>\n",
       "    <tr>\n",
       "      <td>주방용품</td>\n",
       "      <td>117</td>\n",
       "    </tr>\n",
       "    <tr>\n",
       "      <td>광학제품</td>\n",
       "      <td>112</td>\n",
       "    </tr>\n",
       "    <tr>\n",
       "      <td>자동차판매</td>\n",
       "      <td>59</td>\n",
       "    </tr>\n",
       "  </tbody>\n",
       "</table>\n",
       "</div>"
      ],
      "text/plain": [
       "           사용금액\n",
       "소비처업종          \n",
       "요식업소   25521486\n",
       "의료기관    1868942\n",
       "음료식품    1080110\n",
       "연료판매     608356\n",
       "문화취미     575515\n",
       "보건위생      27765\n",
       "서적문구      10252\n",
       "신변잡화       2961\n",
       "유통업        2855\n",
       "의복         1321\n",
       "가전         1169\n",
       "자동차정비      1082\n",
       "레저업소       1077\n",
       "수리서비스       907\n",
       "사무통신        294\n",
       "직물          225\n",
       "주방용품        117\n",
       "광학제품        112\n",
       "자동차판매        59"
      ]
     },
     "execution_count": 7,
     "metadata": {},
     "output_type": "execute_result"
    }
   ],
   "source": [
    "twenty = df_check[df_check[\"age_group\"]==2]\n",
    "twenty_a = twenty.groupby(\"소비처업종\")[\"사용금액\"].sum().reset_index().sort_values(by='사용금액',ascending=False)\n",
    "twenty_a2 = twenty_a.set_index(\"소비처업종\")\n",
    "twenty_a2"
   ]
  },
  {
   "cell_type": "code",
   "execution_count": 8,
   "metadata": {
    "scrolled": false
   },
   "outputs": [
    {
     "data": {
      "text/plain": [
       "<matplotlib.axes._subplots.AxesSubplot at 0x1ac27236848>"
      ]
     },
     "execution_count": 8,
     "metadata": {},
     "output_type": "execute_result"
    },
    {
     "data": {
      "image/png": "[encoded data removed]",
      "text/plain": [
       "<Figure size 720x720 with 1 Axes>"
      ]
     },
     "metadata": {},
     "output_type": "display_data"
    }
   ],
   "source": [
    "twenty_a2.plot.pie(y='사용금액', figsize=(10, 10),autopct='%1.1f%%', title='20대 소비처업종별 카드사용금액')"
   ]
  },
  {
   "cell_type": "markdown",
   "metadata": {},
   "source": [
    "# 30대는 무슨 업종에서 체크카드를 많이 사용 하나?"
   ]
  },
  {
   "cell_type": "code",
   "execution_count": 12,
   "metadata": {
    "scrolled": true
   },
   "outputs": [
    {
     "data": {
      "text/html": [
       "<div>\n",
       "<style scoped>\n",
       "    .dataframe tbody tr th:only-of-type {\n",
       "        vertical-align: middle;\n",
       "    }\n",
       "\n",
       "    .dataframe tbody tr th {\n",
       "        vertical-align: top;\n",
       "    }\n",
       "\n",
       "    .dataframe thead th {\n",
       "        text-align: right;\n",
       "    }\n",
       "</style>\n",
       "<table border=\"1\" class=\"dataframe\">\n",
       "  <thead>\n",
       "    <tr style=\"text-align: right;\">\n",
       "      <th></th>\n",
       "      <th>소비처업종</th>\n",
       "      <th>사용횟수</th>\n",
       "    </tr>\n",
       "  </thead>\n",
       "  <tbody>\n",
       "    <tr>\n",
       "      <td>13</td>\n",
       "      <td>음료식품</td>\n",
       "      <td>164544</td>\n",
       "    </tr>\n",
       "    <tr>\n",
       "      <td>14</td>\n",
       "      <td>의료기관</td>\n",
       "      <td>130388</td>\n",
       "    </tr>\n",
       "    <tr>\n",
       "      <td>10</td>\n",
       "      <td>연료판매</td>\n",
       "      <td>23831</td>\n",
       "    </tr>\n",
       "    <tr>\n",
       "      <td>7</td>\n",
       "      <td>서적문구</td>\n",
       "      <td>4731</td>\n",
       "    </tr>\n",
       "    <tr>\n",
       "      <td>11</td>\n",
       "      <td>요식업소</td>\n",
       "      <td>2713</td>\n",
       "    </tr>\n",
       "    <tr>\n",
       "      <td>5</td>\n",
       "      <td>보건위생</td>\n",
       "      <td>1723</td>\n",
       "    </tr>\n",
       "    <tr>\n",
       "      <td>9</td>\n",
       "      <td>신변잡화</td>\n",
       "      <td>459</td>\n",
       "    </tr>\n",
       "    <tr>\n",
       "      <td>12</td>\n",
       "      <td>유통업</td>\n",
       "      <td>351</td>\n",
       "    </tr>\n",
       "    <tr>\n",
       "      <td>4</td>\n",
       "      <td>문화취미</td>\n",
       "      <td>217</td>\n",
       "    </tr>\n",
       "    <tr>\n",
       "      <td>15</td>\n",
       "      <td>의복</td>\n",
       "      <td>141</td>\n",
       "    </tr>\n",
       "    <tr>\n",
       "      <td>1</td>\n",
       "      <td>가전</td>\n",
       "      <td>127</td>\n",
       "    </tr>\n",
       "    <tr>\n",
       "      <td>16</td>\n",
       "      <td>자동차정비</td>\n",
       "      <td>122</td>\n",
       "    </tr>\n",
       "    <tr>\n",
       "      <td>3</td>\n",
       "      <td>레저업소</td>\n",
       "      <td>101</td>\n",
       "    </tr>\n",
       "    <tr>\n",
       "      <td>8</td>\n",
       "      <td>수리서비스</td>\n",
       "      <td>99</td>\n",
       "    </tr>\n",
       "    <tr>\n",
       "      <td>0</td>\n",
       "      <td>가구</td>\n",
       "      <td>68</td>\n",
       "    </tr>\n",
       "    <tr>\n",
       "      <td>20</td>\n",
       "      <td>직물</td>\n",
       "      <td>66</td>\n",
       "    </tr>\n",
       "    <tr>\n",
       "      <td>2</td>\n",
       "      <td>광학제품</td>\n",
       "      <td>35</td>\n",
       "    </tr>\n",
       "    <tr>\n",
       "      <td>19</td>\n",
       "      <td>주방용품</td>\n",
       "      <td>26</td>\n",
       "    </tr>\n",
       "    <tr>\n",
       "      <td>6</td>\n",
       "      <td>사무통신</td>\n",
       "      <td>15</td>\n",
       "    </tr>\n",
       "    <tr>\n",
       "      <td>17</td>\n",
       "      <td>자동차판매</td>\n",
       "      <td>4</td>\n",
       "    </tr>\n",
       "    <tr>\n",
       "      <td>18</td>\n",
       "      <td>전기</td>\n",
       "      <td>4</td>\n",
       "    </tr>\n",
       "  </tbody>\n",
       "</table>\n",
       "</div>"
      ],
      "text/plain": [
       "    소비처업종    사용횟수\n",
       "13   음료식품  164544\n",
       "14   의료기관  130388\n",
       "10   연료판매   23831\n",
       "7    서적문구    4731\n",
       "11   요식업소    2713\n",
       "5    보건위생    1723\n",
       "9    신변잡화     459\n",
       "12    유통업     351\n",
       "4    문화취미     217\n",
       "15     의복     141\n",
       "1      가전     127\n",
       "16  자동차정비     122\n",
       "3    레저업소     101\n",
       "8   수리서비스      99\n",
       "0      가구      68\n",
       "20     직물      66\n",
       "2    광학제품      35\n",
       "19   주방용품      26\n",
       "6    사무통신      15\n",
       "17  자동차판매       4\n",
       "18     전기       4"
      ]
     },
     "execution_count": 12,
     "metadata": {},
     "output_type": "execute_result"
    }
   ],
   "source": [
    "#사용횟수 기준\n",
    "thirty = df_check[df_check[\"age_group\"]==3]\n",
    "thirty_a = thirty.groupby(\"소비처업종\")[\"사용횟수\"].sum().reset_index().sort_values(by='사용횟수',ascending=False)\n",
    "thirty_a"
   ]
  },
  {
   "cell_type": "code",
   "execution_count": 76,
   "metadata": {},
   "outputs": [
    {
     "data": {
      "text/html": [
       "<div>\n",
       "<style scoped>\n",
       "    .dataframe tbody tr th:only-of-type {\n",
       "        vertical-align: middle;\n",
       "    }\n",
       "\n",
       "    .dataframe tbody tr th {\n",
       "        vertical-align: top;\n",
       "    }\n",
       "\n",
       "    .dataframe thead th {\n",
       "        text-align: right;\n",
       "    }\n",
       "</style>\n",
       "<table border=\"1\" class=\"dataframe\">\n",
       "  <thead>\n",
       "    <tr style=\"text-align: right;\">\n",
       "      <th></th>\n",
       "      <th>사용금액</th>\n",
       "    </tr>\n",
       "    <tr>\n",
       "      <th>소비처업종</th>\n",
       "      <th></th>\n",
       "    </tr>\n",
       "  </thead>\n",
       "  <tbody>\n",
       "    <tr>\n",
       "      <td>의료기관</td>\n",
       "      <td>4335746</td>\n",
       "    </tr>\n",
       "    <tr>\n",
       "      <td>음료식품</td>\n",
       "      <td>1582006</td>\n",
       "    </tr>\n",
       "    <tr>\n",
       "      <td>연료판매</td>\n",
       "      <td>740345</td>\n",
       "    </tr>\n",
       "    <tr>\n",
       "      <td>서적문구</td>\n",
       "      <td>109923</td>\n",
       "    </tr>\n",
       "    <tr>\n",
       "      <td>요식업소</td>\n",
       "      <td>54954</td>\n",
       "    </tr>\n",
       "  </tbody>\n",
       "</table>\n",
       "</div>"
      ],
      "text/plain": [
       "          사용금액\n",
       "소비처업종         \n",
       "의료기관   4335746\n",
       "음료식품   1582006\n",
       "연료판매    740345\n",
       "서적문구    109923\n",
       "요식업소     54954"
      ]
     },
     "execution_count": 76,
     "metadata": {},
     "output_type": "execute_result"
    }
   ],
   "source": [
    "thirty = df_check[df_check[\"age_group\"]==3]\n",
    "thirty_a = thirty.groupby(\"소비처업종\")[\"사용금액\"].sum().reset_index().sort_values(by='사용금액',ascending=False)\n",
    "thirty_a2 = thirty_a.set_index(\"소비처업종\")\n",
    "thirty_a2.head()"
   ]
  },
  {
   "cell_type": "code",
   "execution_count": 77,
   "metadata": {
    "scrolled": false
   },
   "outputs": [
    {
     "data": {
      "text/plain": [
       "<matplotlib.axes._subplots.AxesSubplot at 0x1ac29514948>"
      ]
     },
     "execution_count": 77,
     "metadata": {},
     "output_type": "execute_result"
    },
    {
     "data": {
      "image/png": "[encoded data removed]",
      "text/plain": [
       "<Figure size 720x720 with 1 Axes>"
      ]
     },
     "metadata": {},
     "output_type": "display_data"
    }
   ],
   "source": [
    "thirty_a2.plot.pie(y='사용금액', figsize=(10, 10),autopct='%1.1f%%',  title='30대 소비처업종별 체크카드 사용금액')"
   ]
  },
  {
   "cell_type": "markdown",
   "metadata": {},
   "source": [
    "# 40대 소비처업종별 체크카드 사용금액"
   ]
  },
  {
   "cell_type": "code",
   "execution_count": 78,
   "metadata": {},
   "outputs": [
    {
     "data": {
      "text/html": [
       "<div>\n",
       "<style scoped>\n",
       "    .dataframe tbody tr th:only-of-type {\n",
       "        vertical-align: middle;\n",
       "    }\n",
       "\n",
       "    .dataframe tbody tr th {\n",
       "        vertical-align: top;\n",
       "    }\n",
       "\n",
       "    .dataframe thead th {\n",
       "        text-align: right;\n",
       "    }\n",
       "</style>\n",
       "<table border=\"1\" class=\"dataframe\">\n",
       "  <thead>\n",
       "    <tr style=\"text-align: right;\">\n",
       "      <th></th>\n",
       "      <th>사용금액</th>\n",
       "    </tr>\n",
       "    <tr>\n",
       "      <th>소비처업종</th>\n",
       "      <th></th>\n",
       "    </tr>\n",
       "  </thead>\n",
       "  <tbody>\n",
       "    <tr>\n",
       "      <td>의료기관</td>\n",
       "      <td>7888160</td>\n",
       "    </tr>\n",
       "    <tr>\n",
       "      <td>음료식품</td>\n",
       "      <td>2060726</td>\n",
       "    </tr>\n",
       "    <tr>\n",
       "      <td>연료판매</td>\n",
       "      <td>437368</td>\n",
       "    </tr>\n",
       "    <tr>\n",
       "      <td>보건위생</td>\n",
       "      <td>20848</td>\n",
       "    </tr>\n",
       "    <tr>\n",
       "      <td>신변잡화</td>\n",
       "      <td>17169</td>\n",
       "    </tr>\n",
       "  </tbody>\n",
       "</table>\n",
       "</div>"
      ],
      "text/plain": [
       "          사용금액\n",
       "소비처업종         \n",
       "의료기관   7888160\n",
       "음료식품   2060726\n",
       "연료판매    437368\n",
       "보건위생     20848\n",
       "신변잡화     17169"
      ]
     },
     "execution_count": 78,
     "metadata": {},
     "output_type": "execute_result"
    }
   ],
   "source": [
    "forty = df_check[df_check[\"age_group\"]==4]\n",
    "forty_a = forty.groupby(\"소비처업종\")[\"사용금액\"].sum().reset_index().sort_values(by='사용금액',ascending=False)\n",
    "forty_a2 = forty_a.set_index(\"소비처업종\")\n",
    "forty_a2.head()"
   ]
  },
  {
   "cell_type": "code",
   "execution_count": 79,
   "metadata": {},
   "outputs": [
    {
     "data": {
      "text/plain": [
       "<matplotlib.axes._subplots.AxesSubplot at 0x1ac2957da88>"
      ]
     },
     "execution_count": 79,
     "metadata": {},
     "output_type": "execute_result"
    },
    {
     "data": {
      "image/png": "[encoded data removed]",
      "text/plain": [
       "<Figure size 720x720 with 1 Axes>"
      ]
     },
     "metadata": {},
     "output_type": "display_data"
    }
   ],
   "source": [
    "forty_a2.plot.pie(y='사용금액', figsize=(10, 10),autopct='%1.1f%%',  title='40대 소비처업종별 체크카드 사용금액')"
   ]
  },
  {
   "cell_type": "markdown",
   "metadata": {},
   "source": [
    "# 50대 소비처업종별 체크카드 사용금액"
   ]
  },
  {
   "cell_type": "code",
   "execution_count": 80,
   "metadata": {},
   "outputs": [
    {
     "data": {
      "text/html": [
       "<div>\n",
       "<style scoped>\n",
       "    .dataframe tbody tr th:only-of-type {\n",
       "        vertical-align: middle;\n",
       "    }\n",
       "\n",
       "    .dataframe tbody tr th {\n",
       "        vertical-align: top;\n",
       "    }\n",
       "\n",
       "    .dataframe thead th {\n",
       "        text-align: right;\n",
       "    }\n",
       "</style>\n",
       "<table border=\"1\" class=\"dataframe\">\n",
       "  <thead>\n",
       "    <tr style=\"text-align: right;\">\n",
       "      <th></th>\n",
       "      <th>사용금액</th>\n",
       "    </tr>\n",
       "    <tr>\n",
       "      <th>소비처업종</th>\n",
       "      <th></th>\n",
       "    </tr>\n",
       "  </thead>\n",
       "  <tbody>\n",
       "    <tr>\n",
       "      <td>의료기관</td>\n",
       "      <td>7553504</td>\n",
       "    </tr>\n",
       "    <tr>\n",
       "      <td>음료식품</td>\n",
       "      <td>1848012</td>\n",
       "    </tr>\n",
       "    <tr>\n",
       "      <td>연료판매</td>\n",
       "      <td>575901</td>\n",
       "    </tr>\n",
       "    <tr>\n",
       "      <td>신변잡화</td>\n",
       "      <td>27482</td>\n",
       "    </tr>\n",
       "    <tr>\n",
       "      <td>보건위생</td>\n",
       "      <td>17961</td>\n",
       "    </tr>\n",
       "  </tbody>\n",
       "</table>\n",
       "</div>"
      ],
      "text/plain": [
       "          사용금액\n",
       "소비처업종         \n",
       "의료기관   7553504\n",
       "음료식품   1848012\n",
       "연료판매    575901\n",
       "신변잡화     27482\n",
       "보건위생     17961"
      ]
     },
     "execution_count": 80,
     "metadata": {},
     "output_type": "execute_result"
    }
   ],
   "source": [
    "fifty = df_check[df_check[\"age_group\"]==5]\n",
    "fifty_a = fifty.groupby(\"소비처업종\")[\"사용금액\"].sum().reset_index().sort_values(by='사용금액',ascending=False)\n",
    "fifty_a2 = fifty_a.set_index(\"소비처업종\")\n",
    "fifty_a2.head()"
   ]
  },
  {
   "cell_type": "code",
   "execution_count": 81,
   "metadata": {},
   "outputs": [
    {
     "data": {
      "text/plain": [
       "<matplotlib.axes._subplots.AxesSubplot at 0x1ac29609ec8>"
      ]
     },
     "execution_count": 81,
     "metadata": {},
     "output_type": "execute_result"
    },
    {
     "data": {
      "image/png": "[encoded data removed]",
      "text/plain": [
       "<Figure size 720x720 with 1 Axes>"
      ]
     },
     "metadata": {},
     "output_type": "display_data"
    }
   ],
   "source": [
    "fifty_a2.plot.pie(y='사용금액', figsize=(10, 10),autopct='%1.1f%%',  title='50대 소비처업종별 체크카드 사용금액')"
   ]
  },
  {
   "cell_type": "markdown",
   "metadata": {},
   "source": [
    "# 60대 소비처업종별 체크카드 사용금액"
   ]
  },
  {
   "cell_type": "code",
   "execution_count": 82,
   "metadata": {},
   "outputs": [
    {
     "data": {
      "text/html": [
       "<div>\n",
       "<style scoped>\n",
       "    .dataframe tbody tr th:only-of-type {\n",
       "        vertical-align: middle;\n",
       "    }\n",
       "\n",
       "    .dataframe tbody tr th {\n",
       "        vertical-align: top;\n",
       "    }\n",
       "\n",
       "    .dataframe thead th {\n",
       "        text-align: right;\n",
       "    }\n",
       "</style>\n",
       "<table border=\"1\" class=\"dataframe\">\n",
       "  <thead>\n",
       "    <tr style=\"text-align: right;\">\n",
       "      <th></th>\n",
       "      <th>사용금액</th>\n",
       "    </tr>\n",
       "    <tr>\n",
       "      <th>소비처업종</th>\n",
       "      <th></th>\n",
       "    </tr>\n",
       "  </thead>\n",
       "  <tbody>\n",
       "    <tr>\n",
       "      <td>의료기관</td>\n",
       "      <td>6431746</td>\n",
       "    </tr>\n",
       "    <tr>\n",
       "      <td>음료식품</td>\n",
       "      <td>1570986</td>\n",
       "    </tr>\n",
       "    <tr>\n",
       "      <td>연료판매</td>\n",
       "      <td>811068</td>\n",
       "    </tr>\n",
       "    <tr>\n",
       "      <td>직물</td>\n",
       "      <td>15598</td>\n",
       "    </tr>\n",
       "    <tr>\n",
       "      <td>보건위생</td>\n",
       "      <td>9937</td>\n",
       "    </tr>\n",
       "  </tbody>\n",
       "</table>\n",
       "</div>"
      ],
      "text/plain": [
       "          사용금액\n",
       "소비처업종         \n",
       "의료기관   6431746\n",
       "음료식품   1570986\n",
       "연료판매    811068\n",
       "직물       15598\n",
       "보건위생      9937"
      ]
     },
     "execution_count": 82,
     "metadata": {},
     "output_type": "execute_result"
    }
   ],
   "source": [
    "sixty = df_check[df_check[\"age_group\"]==6]\n",
    "sixty_a = sixty.groupby(\"소비처업종\")[\"사용금액\"].sum().reset_index().sort_values(by='사용금액',ascending=False)\n",
    "sixty_a2 = sixty_a.set_index(\"소비처업종\")\n",
    "sixty_a2.head()"
   ]
  },
  {
   "cell_type": "code",
   "execution_count": 83,
   "metadata": {},
   "outputs": [
    {
     "data": {
      "text/plain": [
       "<matplotlib.axes._subplots.AxesSubplot at 0x1ac296a3d48>"
      ]
     },
     "execution_count": 83,
     "metadata": {},
     "output_type": "execute_result"
    },
    {
     "data": {
      "image/png": "[encoded data removed]",
      "text/plain": [
       "<Figure size 720x720 with 1 Axes>"
      ]
     },
     "metadata": {},
     "output_type": "display_data"
    }
   ],
   "source": [
    "sixty_a2.plot.pie(y='사용금액', figsize=(10, 10),autopct='%1.1f%%',  title='60대 소비처업종별 체크카드 사용금액')"
   ]
  },
  {
   "cell_type": "markdown",
   "metadata": {},
   "source": [
    "### 20대초 (20세~23세) 소비처 업종별 신용카드 사용금액"
   ]
  },
  {
   "cell_type": "code",
   "execution_count": 29,
   "metadata": {
    "scrolled": true
   },
   "outputs": [
    {
     "data": {
      "text/html": [
       "<div>\n",
       "<style scoped>\n",
       "    .dataframe tbody tr th:only-of-type {\n",
       "        vertical-align: middle;\n",
       "    }\n",
       "\n",
       "    .dataframe tbody tr th {\n",
       "        vertical-align: top;\n",
       "    }\n",
       "\n",
       "    .dataframe thead th {\n",
       "        text-align: right;\n",
       "    }\n",
       "</style>\n",
       "<table border=\"1\" class=\"dataframe\">\n",
       "  <thead>\n",
       "    <tr style=\"text-align: right;\">\n",
       "      <th></th>\n",
       "      <th>사용금액</th>\n",
       "    </tr>\n",
       "    <tr>\n",
       "      <th>소비처업종</th>\n",
       "      <th></th>\n",
       "    </tr>\n",
       "  </thead>\n",
       "  <tbody>\n",
       "    <tr>\n",
       "      <td>요식업소</td>\n",
       "      <td>9500580</td>\n",
       "    </tr>\n",
       "    <tr>\n",
       "      <td>의료기관</td>\n",
       "      <td>582424</td>\n",
       "    </tr>\n",
       "    <tr>\n",
       "      <td>음료식품</td>\n",
       "      <td>428391</td>\n",
       "    </tr>\n",
       "    <tr>\n",
       "      <td>문화취미</td>\n",
       "      <td>272806</td>\n",
       "    </tr>\n",
       "    <tr>\n",
       "      <td>연료판매</td>\n",
       "      <td>72224</td>\n",
       "    </tr>\n",
       "    <tr>\n",
       "      <td>보건위생</td>\n",
       "      <td>6881</td>\n",
       "    </tr>\n",
       "    <tr>\n",
       "      <td>서적문구</td>\n",
       "      <td>4935</td>\n",
       "    </tr>\n",
       "    <tr>\n",
       "      <td>신변잡화</td>\n",
       "      <td>2109</td>\n",
       "    </tr>\n",
       "    <tr>\n",
       "      <td>유통업</td>\n",
       "      <td>666</td>\n",
       "    </tr>\n",
       "    <tr>\n",
       "      <td>자동차정비</td>\n",
       "      <td>513</td>\n",
       "    </tr>\n",
       "    <tr>\n",
       "      <td>의복</td>\n",
       "      <td>303</td>\n",
       "    </tr>\n",
       "    <tr>\n",
       "      <td>레저업소</td>\n",
       "      <td>171</td>\n",
       "    </tr>\n",
       "    <tr>\n",
       "      <td>가전</td>\n",
       "      <td>134</td>\n",
       "    </tr>\n",
       "    <tr>\n",
       "      <td>수리서비스</td>\n",
       "      <td>115</td>\n",
       "    </tr>\n",
       "    <tr>\n",
       "      <td>주방용품</td>\n",
       "      <td>60</td>\n",
       "    </tr>\n",
       "    <tr>\n",
       "      <td>사무통신</td>\n",
       "      <td>58</td>\n",
       "    </tr>\n",
       "    <tr>\n",
       "      <td>직물</td>\n",
       "      <td>58</td>\n",
       "    </tr>\n",
       "  </tbody>\n",
       "</table>\n",
       "</div>"
      ],
      "text/plain": [
       "          사용금액\n",
       "소비처업종         \n",
       "요식업소   9500580\n",
       "의료기관    582424\n",
       "음료식품    428391\n",
       "문화취미    272806\n",
       "연료판매     72224\n",
       "보건위생      6881\n",
       "서적문구      4935\n",
       "신변잡화      2109\n",
       "유통업        666\n",
       "자동차정비      513\n",
       "의복         303\n",
       "레저업소       171\n",
       "가전         134\n",
       "수리서비스      115\n",
       "주방용품        60\n",
       "사무통신        58\n",
       "직물          58"
      ]
     },
     "execution_count": 29,
     "metadata": {},
     "output_type": "execute_result"
    }
   ],
   "source": [
    "twenty = df_check[df_check[\"연령\"]<24]\n",
    "twenty_a = twenty.groupby(\"소비처업종\")[\"사용금액\"].sum().reset_index().sort_values(by='사용금액',ascending=False)\n",
    "twenty_a2 = twenty_a.set_index(\"소비처업종\")\n",
    "twenty_a2"
   ]
  },
  {
   "cell_type": "code",
   "execution_count": 30,
   "metadata": {
    "scrolled": false
   },
   "outputs": [
    {
     "data": {
      "text/plain": [
       "<matplotlib.axes._subplots.AxesSubplot at 0x1ac27685ec8>"
      ]
     },
     "execution_count": 30,
     "metadata": {},
     "output_type": "execute_result"
    },
    {
     "data": {
      "image/png": "[encoded data removed]",
      "text/plain": [
       "<Figure size 720x720 with 1 Axes>"
      ]
     },
     "metadata": {},
     "output_type": "display_data"
    }
   ],
   "source": [
    "twenty_a2.plot.pie(y='사용금액', figsize=(10, 10),autopct='%1.1f%%', title='20대 초 소비처업종별 체크카드 사용금액')"
   ]
  },
  {
   "cell_type": "markdown",
   "metadata": {},
   "source": [
    "### 20대 중반 (24세~26세) 소비처 업종별 신용카드 사용금액"
   ]
  },
  {
   "cell_type": "code",
   "execution_count": 27,
   "metadata": {
    "scrolled": true
   },
   "outputs": [
    {
     "data": {
      "text/html": [
       "<div>\n",
       "<style scoped>\n",
       "    .dataframe tbody tr th:only-of-type {\n",
       "        vertical-align: middle;\n",
       "    }\n",
       "\n",
       "    .dataframe tbody tr th {\n",
       "        vertical-align: top;\n",
       "    }\n",
       "\n",
       "    .dataframe thead th {\n",
       "        text-align: right;\n",
       "    }\n",
       "</style>\n",
       "<table border=\"1\" class=\"dataframe\">\n",
       "  <thead>\n",
       "    <tr style=\"text-align: right;\">\n",
       "      <th></th>\n",
       "      <th>사용금액</th>\n",
       "    </tr>\n",
       "    <tr>\n",
       "      <th>소비처업종</th>\n",
       "      <th></th>\n",
       "    </tr>\n",
       "  </thead>\n",
       "  <tbody>\n",
       "    <tr>\n",
       "      <td>요식업소</td>\n",
       "      <td>15989147</td>\n",
       "    </tr>\n",
       "    <tr>\n",
       "      <td>의료기관</td>\n",
       "      <td>1247508</td>\n",
       "    </tr>\n",
       "    <tr>\n",
       "      <td>음료식품</td>\n",
       "      <td>604748</td>\n",
       "    </tr>\n",
       "    <tr>\n",
       "      <td>연료판매</td>\n",
       "      <td>522014</td>\n",
       "    </tr>\n",
       "    <tr>\n",
       "      <td>문화취미</td>\n",
       "      <td>297542</td>\n",
       "    </tr>\n",
       "    <tr>\n",
       "      <td>보건위생</td>\n",
       "      <td>18447</td>\n",
       "    </tr>\n",
       "    <tr>\n",
       "      <td>서적문구</td>\n",
       "      <td>4107</td>\n",
       "    </tr>\n",
       "    <tr>\n",
       "      <td>유통업</td>\n",
       "      <td>1058</td>\n",
       "    </tr>\n",
       "    <tr>\n",
       "      <td>가전</td>\n",
       "      <td>867</td>\n",
       "    </tr>\n",
       "    <tr>\n",
       "      <td>신변잡화</td>\n",
       "      <td>343</td>\n",
       "    </tr>\n",
       "    <tr>\n",
       "      <td>레저업소</td>\n",
       "      <td>337</td>\n",
       "    </tr>\n",
       "    <tr>\n",
       "      <td>수리서비스</td>\n",
       "      <td>284</td>\n",
       "    </tr>\n",
       "    <tr>\n",
       "      <td>의복</td>\n",
       "      <td>283</td>\n",
       "    </tr>\n",
       "    <tr>\n",
       "      <td>사무통신</td>\n",
       "      <td>117</td>\n",
       "    </tr>\n",
       "    <tr>\n",
       "      <td>자동차정비</td>\n",
       "      <td>116</td>\n",
       "    </tr>\n",
       "    <tr>\n",
       "      <td>광학제품</td>\n",
       "      <td>112</td>\n",
       "    </tr>\n",
       "    <tr>\n",
       "      <td>직물</td>\n",
       "      <td>56</td>\n",
       "    </tr>\n",
       "  </tbody>\n",
       "</table>\n",
       "</div>"
      ],
      "text/plain": [
       "           사용금액\n",
       "소비처업종          \n",
       "요식업소   15989147\n",
       "의료기관    1247508\n",
       "음료식품     604748\n",
       "연료판매     522014\n",
       "문화취미     297542\n",
       "보건위생      18447\n",
       "서적문구       4107\n",
       "유통업        1058\n",
       "가전          867\n",
       "신변잡화        343\n",
       "레저업소        337\n",
       "수리서비스       284\n",
       "의복          283\n",
       "사무통신        117\n",
       "자동차정비       116\n",
       "광학제품        112\n",
       "직물           56"
      ]
     },
     "execution_count": 27,
     "metadata": {},
     "output_type": "execute_result"
    }
   ],
   "source": [
    "twenty = df_check[(df_check[\"연령\"]>23) & (df_check[\"연령\"]<27)]\n",
    "twenty_a = twenty.groupby(\"소비처업종\")[\"사용금액\"].sum().reset_index().sort_values(by='사용금액',ascending=False)\n",
    "twenty_a2 = twenty_a.set_index(\"소비처업종\")\n",
    "twenty_a2"
   ]
  },
  {
   "cell_type": "code",
   "execution_count": 28,
   "metadata": {},
   "outputs": [
    {
     "data": {
      "text/plain": [
       "<matplotlib.axes._subplots.AxesSubplot at 0x1ac27587c88>"
      ]
     },
     "execution_count": 28,
     "metadata": {},
     "output_type": "execute_result"
    },
    {
     "data": {
      "image/png": "[encoded data removed]",
      "text/plain": [
       "<Figure size 720x720 with 1 Axes>"
      ]
     },
     "metadata": {},
     "output_type": "display_data"
    }
   ],
   "source": [
    "twenty_a2.plot.pie(y='사용금액', figsize=(10, 10),autopct='%1.1f%%', title='20대 중반 소비처업종별 체크카드 사용금액')"
   ]
  },
  {
   "cell_type": "markdown",
   "metadata": {},
   "source": [
    "### 20대 후반 (27세~29세) 소비처 업종별 신용카드 사용금액"
   ]
  },
  {
   "cell_type": "code",
   "execution_count": 23,
   "metadata": {
    "scrolled": true
   },
   "outputs": [
    {
     "data": {
      "text/html": [
       "<div>\n",
       "<style scoped>\n",
       "    .dataframe tbody tr th:only-of-type {\n",
       "        vertical-align: middle;\n",
       "    }\n",
       "\n",
       "    .dataframe tbody tr th {\n",
       "        vertical-align: top;\n",
       "    }\n",
       "\n",
       "    .dataframe thead th {\n",
       "        text-align: right;\n",
       "    }\n",
       "</style>\n",
       "<table border=\"1\" class=\"dataframe\">\n",
       "  <thead>\n",
       "    <tr style=\"text-align: right;\">\n",
       "      <th></th>\n",
       "      <th>사용금액</th>\n",
       "    </tr>\n",
       "    <tr>\n",
       "      <th>소비처업종</th>\n",
       "      <th></th>\n",
       "    </tr>\n",
       "  </thead>\n",
       "  <tbody>\n",
       "    <tr>\n",
       "      <td>음료식품</td>\n",
       "      <td>46971</td>\n",
       "    </tr>\n",
       "    <tr>\n",
       "      <td>의료기관</td>\n",
       "      <td>39010</td>\n",
       "    </tr>\n",
       "    <tr>\n",
       "      <td>요식업소</td>\n",
       "      <td>31759</td>\n",
       "    </tr>\n",
       "    <tr>\n",
       "      <td>연료판매</td>\n",
       "      <td>14118</td>\n",
       "    </tr>\n",
       "    <tr>\n",
       "      <td>문화취미</td>\n",
       "      <td>5167</td>\n",
       "    </tr>\n",
       "    <tr>\n",
       "      <td>보건위생</td>\n",
       "      <td>2437</td>\n",
       "    </tr>\n",
       "    <tr>\n",
       "      <td>서적문구</td>\n",
       "      <td>1210</td>\n",
       "    </tr>\n",
       "    <tr>\n",
       "      <td>유통업</td>\n",
       "      <td>1131</td>\n",
       "    </tr>\n",
       "    <tr>\n",
       "      <td>의복</td>\n",
       "      <td>735</td>\n",
       "    </tr>\n",
       "    <tr>\n",
       "      <td>레저업소</td>\n",
       "      <td>569</td>\n",
       "    </tr>\n",
       "    <tr>\n",
       "      <td>신변잡화</td>\n",
       "      <td>509</td>\n",
       "    </tr>\n",
       "    <tr>\n",
       "      <td>수리서비스</td>\n",
       "      <td>508</td>\n",
       "    </tr>\n",
       "    <tr>\n",
       "      <td>자동차정비</td>\n",
       "      <td>453</td>\n",
       "    </tr>\n",
       "    <tr>\n",
       "      <td>가전</td>\n",
       "      <td>168</td>\n",
       "    </tr>\n",
       "    <tr>\n",
       "      <td>사무통신</td>\n",
       "      <td>119</td>\n",
       "    </tr>\n",
       "    <tr>\n",
       "      <td>직물</td>\n",
       "      <td>111</td>\n",
       "    </tr>\n",
       "    <tr>\n",
       "      <td>자동차판매</td>\n",
       "      <td>59</td>\n",
       "    </tr>\n",
       "    <tr>\n",
       "      <td>주방용품</td>\n",
       "      <td>57</td>\n",
       "    </tr>\n",
       "  </tbody>\n",
       "</table>\n",
       "</div>"
      ],
      "text/plain": [
       "        사용금액\n",
       "소비처업종       \n",
       "음료식품   46971\n",
       "의료기관   39010\n",
       "요식업소   31759\n",
       "연료판매   14118\n",
       "문화취미    5167\n",
       "보건위생    2437\n",
       "서적문구    1210\n",
       "유통업     1131\n",
       "의복       735\n",
       "레저업소     569\n",
       "신변잡화     509\n",
       "수리서비스    508\n",
       "자동차정비    453\n",
       "가전       168\n",
       "사무통신     119\n",
       "직물       111\n",
       "자동차판매     59\n",
       "주방용품      57"
      ]
     },
     "execution_count": 23,
     "metadata": {},
     "output_type": "execute_result"
    }
   ],
   "source": [
    "twenty = df_check[(df_check[\"연령\"]>26) & (df_check[\"연령\"]<30)]\n",
    "twenty_a = twenty.groupby(\"소비처업종\")[\"사용금액\"].sum().reset_index().sort_values(by='사용금액',ascending=False)\n",
    "twenty_a2 = twenty_a.set_index(\"소비처업종\")\n",
    "twenty_a2"
   ]
  },
  {
   "cell_type": "code",
   "execution_count": 24,
   "metadata": {},
   "outputs": [
    {
     "data": {
      "text/plain": [
       "<matplotlib.axes._subplots.AxesSubplot at 0x1ac2758c4c8>"
      ]
     },
     "execution_count": 24,
     "metadata": {},
     "output_type": "execute_result"
    },
    {
     "data": {
      "image/png": "[encoded data removed]",
      "text/plain": [
       "<Figure size 720x720 with 1 Axes>"
      ]
     },
     "metadata": {},
     "output_type": "display_data"
    }
   ],
   "source": [
    "twenty_a2.plot.pie(y='사용금액', figsize=(10, 10),autopct='%1.1f%%', title='20대 후반 소비처업종별 체크카드 사용금액')"
   ]
  }
 ],
 "metadata": {
  "kernelspec": {
   "display_name": "Python 3",
   "language": "python",
   "name": "python3"
  },
  "language_info": {
   "codemirror_mode": {
    "name": "ipython",
    "version": 3
   },
   "file_extension": ".py",
   "mimetype": "text/x-python",
   "name": "python",
   "nbconvert_exporter": "python",
   "pygments_lexer": "ipython3",
   "version": "3.7.4"
  }
 },
 "nbformat": 4,
 "nbformat_minor": 2
}
